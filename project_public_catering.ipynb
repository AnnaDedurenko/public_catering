{
 "cells": [
  {
   "cell_type": "markdown",
   "id": "655f874e-5e88-4a70-9606-5b8835b2c545",
   "metadata": {},
   "source": [
    "# Открытие заведения общественного питания\n",
    "\n",
    "## Цель и задачи  \n",
    "\n",
    "**Цель:** Инвесторы решили попробовать себя в новой области и открыть заведение общественного питания в Москве. \n",
    "На основе датасета общественного питания в москве - определим все основеные моменты и проведем детальный анализ с визуализациями\n",
    "\n",
    "**Задачи:**\n",
    "1. Загрузить данные и познакомиться с их содержимым.\n",
    "2. Провести предобработку данных.\n",
    "3. Провести исследовательский анализ данных:\n",
    "    - изучить данные более детально;\n",
    "4. Сформулировать выводы по проведённому анализу.\n",
    "\n",
    "### Описание датасета `/datasets/rest_info.csv`\n",
    "\n",
    "- name — название заведения;\n",
    "- address — адрес заведения;\n",
    "- district — административный район, в котором находится заведение, например Центральный административный округ;\n",
    "- category — категория заведения, например «кафе», «пиццерия» или «кофейня»;\n",
    "- hours — информация о днях и часах работы;\n",
    "- rating — рейтинг заведения по оценкам пользователей в Яндекс Картах (высшая оценка — 5.0);\n",
    "- chain — число, выраженное 0 или 1, которое показывает, является ли заведение сетевым (для маленьких сетей могут встречаться ошибки):\n",
    "-- 0 — заведение не является сетевым;\n",
    "-- 1 — заведение является сетевым.\n",
    "- seats — количество посадочных мест.\n",
    "\n",
    "### Описание датасета `/datasets/rest_price.csv`\n",
    "\n",
    "- price — категория цен в заведении, например «средние», «ниже среднего», «выше среднего» и так далее;\n",
    "- avg_bill — строка, которая хранит среднюю стоимость заказа в виде диапазона\n",
    "- middle_avg_bill — число с оценкой среднего чека\n",
    "- middle_coffee_cup — число с оценкой одной чашки капучино,\n",
    "\n",
    "## Структура проекта\n",
    "\n",
    "1. Загрузка данных и знакомство с ними.\n",
    "2. Предобработка данных.\n",
    "3. Исследовательский анализ данных.\n",
    "4. Итоговые выводы.\n",
    "\n",
    "---"
   ]
  },
  {
   "cell_type": "markdown",
   "id": "e6dba566-fa1a-4dd2-818e-6717ed512628",
   "metadata": {},
   "source": [
    "Шаг 1. Загрузка данных и знакомство с ними + Шаг 2. Предобработка данных"
   ]
  },
  {
   "cell_type": "code",
   "execution_count": 1,
   "id": "a09b29e6",
   "metadata": {},
   "outputs": [
    {
     "name": "stdout",
     "output_type": "stream",
     "text": [
      "Collecting phik\n",
      "  Downloading phik-0.12.4-cp39-cp39-manylinux_2_17_x86_64.manylinux2014_x86_64.whl (686 kB)\n",
      "\u001b[K     |████████████████████████████████| 686 kB 2.3 MB/s eta 0:00:01\n",
      "\u001b[?25hRequirement already satisfied: matplotlib>=2.2.3 in /opt/conda/lib/python3.9/site-packages (from phik) (3.3.4)\n",
      "Requirement already satisfied: scipy>=1.5.2 in /opt/conda/lib/python3.9/site-packages (from phik) (1.9.1)\n",
      "Requirement already satisfied: pandas>=0.25.1 in /opt/conda/lib/python3.9/site-packages (from phik) (2.2.3)\n",
      "Requirement already satisfied: joblib>=0.14.1 in /opt/conda/lib/python3.9/site-packages (from phik) (1.1.0)\n",
      "Requirement already satisfied: numpy>=1.18.0 in /opt/conda/lib/python3.9/site-packages (from phik) (1.26.4)\n",
      "Requirement already satisfied: pillow>=6.2.0 in /opt/conda/lib/python3.9/site-packages (from matplotlib>=2.2.3->phik) (8.4.0)\n",
      "Requirement already satisfied: python-dateutil>=2.1 in /opt/conda/lib/python3.9/site-packages (from matplotlib>=2.2.3->phik) (2.9.0.post0)\n",
      "Requirement already satisfied: cycler>=0.10 in /opt/conda/lib/python3.9/site-packages (from matplotlib>=2.2.3->phik) (0.11.0)\n",
      "Requirement already satisfied: kiwisolver>=1.0.1 in /opt/conda/lib/python3.9/site-packages (from matplotlib>=2.2.3->phik) (1.4.4)\n",
      "Requirement already satisfied: pyparsing!=2.0.4,!=2.1.2,!=2.1.6,>=2.0.3 in /opt/conda/lib/python3.9/site-packages (from matplotlib>=2.2.3->phik) (2.4.7)\n",
      "Requirement already satisfied: pytz>=2020.1 in /opt/conda/lib/python3.9/site-packages (from pandas>=0.25.1->phik) (2021.1)\n",
      "Requirement already satisfied: tzdata>=2022.7 in /opt/conda/lib/python3.9/site-packages (from pandas>=0.25.1->phik) (2025.2)\n",
      "Requirement already satisfied: six>=1.5 in /opt/conda/lib/python3.9/site-packages (from python-dateutil>=2.1->matplotlib>=2.2.3->phik) (1.16.0)\n",
      "Collecting numpy>=1.18.0\n",
      "  Downloading numpy-1.24.4-cp39-cp39-manylinux_2_17_x86_64.manylinux2014_x86_64.whl (17.3 MB)\n",
      "\u001b[K     |████████████████████████████████| 17.3 MB 59.8 MB/s eta 0:00:01\n",
      "\u001b[?25hInstalling collected packages: numpy, phik\n",
      "  Attempting uninstall: numpy\n",
      "    Found existing installation: numpy 1.26.4\n",
      "    Uninstalling numpy-1.26.4:\n",
      "      Successfully uninstalled numpy-1.26.4\n",
      "\u001b[31mERROR: pip's dependency resolver does not currently take into account all the packages that are installed. This behaviour is the source of the following dependency conflicts.\n",
      "numba 0.56.0 requires numpy<1.23,>=1.18, but you have numpy 1.24.4 which is incompatible.\u001b[0m\n",
      "Successfully installed numpy-1.24.4 phik-0.12.4\n"
     ]
    }
   ],
   "source": [
    "!pip install phik -U"
   ]
  },
  {
   "cell_type": "code",
   "execution_count": 2,
   "id": "f0154d6c-f9d2-4f23-8586-64bc08e5cd2b",
   "metadata": {},
   "outputs": [],
   "source": [
    "#Импортируем библиотеки\n",
    "import pandas as pd\n",
    "\n",
    "# Загружаем библиотеки для визуализации данных\n",
    "import matplotlib.pyplot as plt\n",
    "import seaborn as sns\n",
    "\n",
    "# Загружаем библиотеку для расчёта коэффициента корреляции phi_k\n",
    "from phik import phik_matrix\n"
   ]
  },
  {
   "cell_type": "code",
   "execution_count": 3,
   "id": "3693e314-a3da-43fb-bd4b-6ba17930c6ce",
   "metadata": {},
   "outputs": [],
   "source": [
    "# Выгружаем данные в переменные rest_df\n",
    "rest_df = pd.read_csv('https://code.s3.yandex.net/datasets/rest_info.csv')"
   ]
  },
  {
   "cell_type": "code",
   "execution_count": 4,
   "id": "4b9ca48e-5791-4458-ae8c-8f2e6daa2e13",
   "metadata": {},
   "outputs": [
    {
     "data": {
      "text/html": [
       "<div>\n",
       "<style scoped>\n",
       "    .dataframe tbody tr th:only-of-type {\n",
       "        vertical-align: middle;\n",
       "    }\n",
       "\n",
       "    .dataframe tbody tr th {\n",
       "        vertical-align: top;\n",
       "    }\n",
       "\n",
       "    .dataframe thead th {\n",
       "        text-align: right;\n",
       "    }\n",
       "</style>\n",
       "<table border=\"1\" class=\"dataframe\">\n",
       "  <thead>\n",
       "    <tr style=\"text-align: right;\">\n",
       "      <th></th>\n",
       "      <th>id</th>\n",
       "      <th>name</th>\n",
       "      <th>category</th>\n",
       "      <th>address</th>\n",
       "      <th>district</th>\n",
       "      <th>hours</th>\n",
       "      <th>rating</th>\n",
       "      <th>chain</th>\n",
       "      <th>seats</th>\n",
       "    </tr>\n",
       "  </thead>\n",
       "  <tbody>\n",
       "    <tr>\n",
       "      <th>0</th>\n",
       "      <td>0c3e3439a8c64ea5bf6ecd6ca6ae19f0</td>\n",
       "      <td>WoWфли</td>\n",
       "      <td>кафе</td>\n",
       "      <td>Москва, улица Дыбенко, 7/1</td>\n",
       "      <td>Северный административный округ</td>\n",
       "      <td>ежедневно, 10:00–22:00</td>\n",
       "      <td>5.0</td>\n",
       "      <td>0</td>\n",
       "      <td>NaN</td>\n",
       "    </tr>\n",
       "    <tr>\n",
       "      <th>1</th>\n",
       "      <td>045780ada3474c57a2112e505d74b633</td>\n",
       "      <td>Четыре комнаты</td>\n",
       "      <td>ресторан</td>\n",
       "      <td>Москва, улица Дыбенко, 36, корп. 1</td>\n",
       "      <td>Северный административный округ</td>\n",
       "      <td>ежедневно, 10:00–22:00</td>\n",
       "      <td>4.5</td>\n",
       "      <td>0</td>\n",
       "      <td>4.0</td>\n",
       "    </tr>\n",
       "    <tr>\n",
       "      <th>2</th>\n",
       "      <td>1070b6b59144425896c65889347fcff6</td>\n",
       "      <td>Хазри</td>\n",
       "      <td>кафе</td>\n",
       "      <td>Москва, Клязьминская улица, 15</td>\n",
       "      <td>Северный административный округ</td>\n",
       "      <td>пн-чт 11:00–02:00; пт,сб 11:00–05:00; вс 11:00...</td>\n",
       "      <td>4.6</td>\n",
       "      <td>0</td>\n",
       "      <td>45.0</td>\n",
       "    </tr>\n",
       "    <tr>\n",
       "      <th>3</th>\n",
       "      <td>03ac7cd772104f65b58b349dc59f03ee</td>\n",
       "      <td>Dormouse Coffee Shop</td>\n",
       "      <td>кофейня</td>\n",
       "      <td>Москва, улица Маршала Федоренко, 12</td>\n",
       "      <td>Северный административный округ</td>\n",
       "      <td>ежедневно, 09:00–22:00</td>\n",
       "      <td>5.0</td>\n",
       "      <td>0</td>\n",
       "      <td>NaN</td>\n",
       "    </tr>\n",
       "    <tr>\n",
       "      <th>4</th>\n",
       "      <td>a163aada139c4c7f87b0b1c0b466a50f</td>\n",
       "      <td>Иль Марко</td>\n",
       "      <td>пиццерия</td>\n",
       "      <td>Москва, Правобережная улица, 1Б</td>\n",
       "      <td>Северный административный округ</td>\n",
       "      <td>ежедневно, 10:00–22:00</td>\n",
       "      <td>5.0</td>\n",
       "      <td>1</td>\n",
       "      <td>148.0</td>\n",
       "    </tr>\n",
       "  </tbody>\n",
       "</table>\n",
       "</div>"
      ],
      "text/plain": [
       "                                 id                  name  category  \\\n",
       "0  0c3e3439a8c64ea5bf6ecd6ca6ae19f0                WoWфли      кафе   \n",
       "1  045780ada3474c57a2112e505d74b633        Четыре комнаты  ресторан   \n",
       "2  1070b6b59144425896c65889347fcff6                 Хазри      кафе   \n",
       "3  03ac7cd772104f65b58b349dc59f03ee  Dormouse Coffee Shop   кофейня   \n",
       "4  a163aada139c4c7f87b0b1c0b466a50f             Иль Марко  пиццерия   \n",
       "\n",
       "                               address                         district  \\\n",
       "0           Москва, улица Дыбенко, 7/1  Северный административный округ   \n",
       "1   Москва, улица Дыбенко, 36, корп. 1  Северный административный округ   \n",
       "2       Москва, Клязьминская улица, 15  Северный административный округ   \n",
       "3  Москва, улица Маршала Федоренко, 12  Северный административный округ   \n",
       "4      Москва, Правобережная улица, 1Б  Северный административный округ   \n",
       "\n",
       "                                               hours  rating  chain  seats  \n",
       "0                             ежедневно, 10:00–22:00     5.0      0    NaN  \n",
       "1                             ежедневно, 10:00–22:00     4.5      0    4.0  \n",
       "2  пн-чт 11:00–02:00; пт,сб 11:00–05:00; вс 11:00...     4.6      0   45.0  \n",
       "3                             ежедневно, 09:00–22:00     5.0      0    NaN  \n",
       "4                             ежедневно, 10:00–22:00     5.0      1  148.0  "
      ]
     },
     "execution_count": 4,
     "metadata": {},
     "output_type": "execute_result"
    }
   ],
   "source": [
    "# Выводим первые строки датафрейма на экран\n",
    "rest_df.head()"
   ]
  },
  {
   "cell_type": "code",
   "execution_count": 5,
   "id": "60957656-b646-48a5-a131-8f069cff7556",
   "metadata": {},
   "outputs": [
    {
     "name": "stdout",
     "output_type": "stream",
     "text": [
      "<class 'pandas.core.frame.DataFrame'>\n",
      "RangeIndex: 8406 entries, 0 to 8405\n",
      "Data columns (total 9 columns):\n",
      " #   Column    Non-Null Count  Dtype  \n",
      "---  ------    --------------  -----  \n",
      " 0   id        8406 non-null   object \n",
      " 1   name      8406 non-null   object \n",
      " 2   category  8406 non-null   object \n",
      " 3   address   8406 non-null   object \n",
      " 4   district  8406 non-null   object \n",
      " 5   hours     7870 non-null   object \n",
      " 6   rating    8406 non-null   float64\n",
      " 7   chain     8406 non-null   int64  \n",
      " 8   seats     4795 non-null   float64\n",
      "dtypes: float64(2), int64(1), object(6)\n",
      "memory usage: 591.2+ KB\n"
     ]
    }
   ],
   "source": [
    "rest_df.info() #Cмотрим информацию"
   ]
  },
  {
   "cell_type": "code",
   "execution_count": 6,
   "id": "70017a15-816b-4079-b51b-085296ac90a5",
   "metadata": {},
   "outputs": [
    {
     "data": {
      "text/plain": [
       "Index(['id', 'name', 'category', 'address', 'district', 'hours', 'rating',\n",
       "       'chain', 'seats'],\n",
       "      dtype='object')"
      ]
     },
     "execution_count": 6,
     "metadata": {},
     "output_type": "execute_result"
    }
   ],
   "source": [
    "rest_df.columns"
   ]
  },
  {
   "cell_type": "markdown",
   "id": "a6bb5024-fd5e-45f6-8c0d-cd291e771981",
   "metadata": {},
   "source": [
    "Датасет `datasets/rest_info.csv` содержит 8 столбцов и 8406 строк, в которых представлена информация об использовании клиентами услуг банка.\n",
    "\n",
    "После первичного анализа данных можно сделать следующие выводы:\n",
    "- Пропуски содержатся только в столбце `hours`, `seat`. Однако следует проверить и другие столбцы: в них могут встречаться значения-индикаторы, которые будут говорить об отсутствии данных.\n",
    "- Судя по первому знакомству с данными, значения в столбцах соответствуют своему описанию."
   ]
  },
  {
   "cell_type": "code",
   "execution_count": 7,
   "id": "2ecf1026-107b-4e52-934e-59d9018de042",
   "metadata": {},
   "outputs": [],
   "source": [
    "price_df = pd.read_csv('https://code.s3.yandex.net/datasets/rest_price.csv')"
   ]
  },
  {
   "cell_type": "code",
   "execution_count": 8,
   "id": "33e5e15f-92de-4287-b9e5-149e145977f9",
   "metadata": {},
   "outputs": [
    {
     "data": {
      "text/html": [
       "<div>\n",
       "<style scoped>\n",
       "    .dataframe tbody tr th:only-of-type {\n",
       "        vertical-align: middle;\n",
       "    }\n",
       "\n",
       "    .dataframe tbody tr th {\n",
       "        vertical-align: top;\n",
       "    }\n",
       "\n",
       "    .dataframe thead th {\n",
       "        text-align: right;\n",
       "    }\n",
       "</style>\n",
       "<table border=\"1\" class=\"dataframe\">\n",
       "  <thead>\n",
       "    <tr style=\"text-align: right;\">\n",
       "      <th></th>\n",
       "      <th>id</th>\n",
       "      <th>price</th>\n",
       "      <th>avg_bill</th>\n",
       "      <th>middle_avg_bill</th>\n",
       "      <th>middle_coffee_cup</th>\n",
       "    </tr>\n",
       "  </thead>\n",
       "  <tbody>\n",
       "    <tr>\n",
       "      <th>0</th>\n",
       "      <td>045780ada3474c57a2112e505d74b633</td>\n",
       "      <td>выше среднего</td>\n",
       "      <td>Средний счёт:1500–1600 ₽</td>\n",
       "      <td>1550.0</td>\n",
       "      <td>NaN</td>\n",
       "    </tr>\n",
       "    <tr>\n",
       "      <th>1</th>\n",
       "      <td>1070b6b59144425896c65889347fcff6</td>\n",
       "      <td>средние</td>\n",
       "      <td>Средний счёт:от 1000 ₽</td>\n",
       "      <td>1000.0</td>\n",
       "      <td>NaN</td>\n",
       "    </tr>\n",
       "    <tr>\n",
       "      <th>2</th>\n",
       "      <td>03ac7cd772104f65b58b349dc59f03ee</td>\n",
       "      <td>NaN</td>\n",
       "      <td>Цена чашки капучино:155–185 ₽</td>\n",
       "      <td>NaN</td>\n",
       "      <td>170.0</td>\n",
       "    </tr>\n",
       "    <tr>\n",
       "      <th>3</th>\n",
       "      <td>a163aada139c4c7f87b0b1c0b466a50f</td>\n",
       "      <td>средние</td>\n",
       "      <td>Средний счёт:400–600 ₽</td>\n",
       "      <td>500.0</td>\n",
       "      <td>NaN</td>\n",
       "    </tr>\n",
       "    <tr>\n",
       "      <th>4</th>\n",
       "      <td>8a343546b24e4a499ad96eb7d0797a8a</td>\n",
       "      <td>средние</td>\n",
       "      <td>NaN</td>\n",
       "      <td>NaN</td>\n",
       "      <td>NaN</td>\n",
       "    </tr>\n",
       "  </tbody>\n",
       "</table>\n",
       "</div>"
      ],
      "text/plain": [
       "                                 id          price  \\\n",
       "0  045780ada3474c57a2112e505d74b633  выше среднего   \n",
       "1  1070b6b59144425896c65889347fcff6        средние   \n",
       "2  03ac7cd772104f65b58b349dc59f03ee            NaN   \n",
       "3  a163aada139c4c7f87b0b1c0b466a50f        средние   \n",
       "4  8a343546b24e4a499ad96eb7d0797a8a        средние   \n",
       "\n",
       "                        avg_bill  middle_avg_bill  middle_coffee_cup  \n",
       "0       Средний счёт:1500–1600 ₽           1550.0                NaN  \n",
       "1         Средний счёт:от 1000 ₽           1000.0                NaN  \n",
       "2  Цена чашки капучино:155–185 ₽              NaN              170.0  \n",
       "3         Средний счёт:400–600 ₽            500.0                NaN  \n",
       "4                            NaN              NaN                NaN  "
      ]
     },
     "execution_count": 8,
     "metadata": {},
     "output_type": "execute_result"
    }
   ],
   "source": [
    "price_df.head()"
   ]
  },
  {
   "cell_type": "code",
   "execution_count": 9,
   "id": "15fcdb50-5a9a-4835-a42f-83f70ec53843",
   "metadata": {},
   "outputs": [
    {
     "name": "stdout",
     "output_type": "stream",
     "text": [
      "<class 'pandas.core.frame.DataFrame'>\n",
      "RangeIndex: 4058 entries, 0 to 4057\n",
      "Data columns (total 5 columns):\n",
      " #   Column             Non-Null Count  Dtype  \n",
      "---  ------             --------------  -----  \n",
      " 0   id                 4058 non-null   object \n",
      " 1   price              3315 non-null   object \n",
      " 2   avg_bill           3816 non-null   object \n",
      " 3   middle_avg_bill    3149 non-null   float64\n",
      " 4   middle_coffee_cup  535 non-null    float64\n",
      "dtypes: float64(2), object(3)\n",
      "memory usage: 158.6+ KB\n"
     ]
    }
   ],
   "source": [
    "price_df.info()"
   ]
  },
  {
   "cell_type": "code",
   "execution_count": 10,
   "id": "2083b24b-bf14-4739-acd8-c814b143ec2c",
   "metadata": {},
   "outputs": [
    {
     "data": {
      "text/plain": [
       "Index(['id', 'price', 'avg_bill', 'middle_avg_bill', 'middle_coffee_cup'], dtype='object')"
      ]
     },
     "execution_count": 10,
     "metadata": {},
     "output_type": "execute_result"
    }
   ],
   "source": [
    "price_df.columns"
   ]
  },
  {
   "cell_type": "markdown",
   "id": "66f2cdb9-5eb3-4d75-80fa-012fc50e5944",
   "metadata": {},
   "source": [
    "Датасет `datasets/rest_price.csv` содержит 4 столбца и 4058 строк, в которых представлена информация об использовании клиентами услуг банка.\n",
    "\n",
    "После первичного анализа данных можно сделать следующие выводы:\n",
    "- Пропуски содержатся только в столбце `price`, `avg_bill`, `middle_avg_bill`, `middle_coffe_cup`. Однако следует проверить и другие столбцы: в них могут встречаться значения-индикаторы, которые будут говорить об отсутствии данных.\n",
    "- Судя по первому знакомству с данными, значения в столбцах соответствуют своему описанию."
   ]
  },
  {
   "cell_type": "markdown",
   "id": "e1ff8823-0021-458e-a46c-320a94bc55e3",
   "metadata": {},
   "source": [
    "### Теперь объеденим датасеты и будем преобразовывать данные"
   ]
  },
  {
   "cell_type": "code",
   "execution_count": 11,
   "id": "e9e5bdb7-35ba-497b-92c7-dd1f4b679997",
   "metadata": {},
   "outputs": [],
   "source": [
    "df_merged = pd.merge(rest_df, price_df, on = 'id', how = 'left') \n",
    "# Использую left join чтобы сохранить все данные"
   ]
  },
  {
   "cell_type": "code",
   "execution_count": 12,
   "id": "325f74e7-468a-4384-9ae3-73ca698704ff",
   "metadata": {},
   "outputs": [
    {
     "data": {
      "text/html": [
       "<div>\n",
       "<style scoped>\n",
       "    .dataframe tbody tr th:only-of-type {\n",
       "        vertical-align: middle;\n",
       "    }\n",
       "\n",
       "    .dataframe tbody tr th {\n",
       "        vertical-align: top;\n",
       "    }\n",
       "\n",
       "    .dataframe thead th {\n",
       "        text-align: right;\n",
       "    }\n",
       "</style>\n",
       "<table border=\"1\" class=\"dataframe\">\n",
       "  <thead>\n",
       "    <tr style=\"text-align: right;\">\n",
       "      <th></th>\n",
       "      <th>id</th>\n",
       "      <th>name</th>\n",
       "      <th>category</th>\n",
       "      <th>address</th>\n",
       "      <th>district</th>\n",
       "      <th>hours</th>\n",
       "      <th>rating</th>\n",
       "      <th>chain</th>\n",
       "      <th>seats</th>\n",
       "      <th>price</th>\n",
       "      <th>avg_bill</th>\n",
       "      <th>middle_avg_bill</th>\n",
       "      <th>middle_coffee_cup</th>\n",
       "    </tr>\n",
       "  </thead>\n",
       "  <tbody>\n",
       "    <tr>\n",
       "      <th>0</th>\n",
       "      <td>0c3e3439a8c64ea5bf6ecd6ca6ae19f0</td>\n",
       "      <td>WoWфли</td>\n",
       "      <td>кафе</td>\n",
       "      <td>Москва, улица Дыбенко, 7/1</td>\n",
       "      <td>Северный административный округ</td>\n",
       "      <td>ежедневно, 10:00–22:00</td>\n",
       "      <td>5.0</td>\n",
       "      <td>0</td>\n",
       "      <td>NaN</td>\n",
       "      <td>NaN</td>\n",
       "      <td>NaN</td>\n",
       "      <td>NaN</td>\n",
       "      <td>NaN</td>\n",
       "    </tr>\n",
       "    <tr>\n",
       "      <th>1</th>\n",
       "      <td>045780ada3474c57a2112e505d74b633</td>\n",
       "      <td>Четыре комнаты</td>\n",
       "      <td>ресторан</td>\n",
       "      <td>Москва, улица Дыбенко, 36, корп. 1</td>\n",
       "      <td>Северный административный округ</td>\n",
       "      <td>ежедневно, 10:00–22:00</td>\n",
       "      <td>4.5</td>\n",
       "      <td>0</td>\n",
       "      <td>4.0</td>\n",
       "      <td>выше среднего</td>\n",
       "      <td>Средний счёт:1500–1600 ₽</td>\n",
       "      <td>1550.0</td>\n",
       "      <td>NaN</td>\n",
       "    </tr>\n",
       "    <tr>\n",
       "      <th>2</th>\n",
       "      <td>1070b6b59144425896c65889347fcff6</td>\n",
       "      <td>Хазри</td>\n",
       "      <td>кафе</td>\n",
       "      <td>Москва, Клязьминская улица, 15</td>\n",
       "      <td>Северный административный округ</td>\n",
       "      <td>пн-чт 11:00–02:00; пт,сб 11:00–05:00; вс 11:00...</td>\n",
       "      <td>4.6</td>\n",
       "      <td>0</td>\n",
       "      <td>45.0</td>\n",
       "      <td>средние</td>\n",
       "      <td>Средний счёт:от 1000 ₽</td>\n",
       "      <td>1000.0</td>\n",
       "      <td>NaN</td>\n",
       "    </tr>\n",
       "    <tr>\n",
       "      <th>3</th>\n",
       "      <td>03ac7cd772104f65b58b349dc59f03ee</td>\n",
       "      <td>Dormouse Coffee Shop</td>\n",
       "      <td>кофейня</td>\n",
       "      <td>Москва, улица Маршала Федоренко, 12</td>\n",
       "      <td>Северный административный округ</td>\n",
       "      <td>ежедневно, 09:00–22:00</td>\n",
       "      <td>5.0</td>\n",
       "      <td>0</td>\n",
       "      <td>NaN</td>\n",
       "      <td>NaN</td>\n",
       "      <td>Цена чашки капучино:155–185 ₽</td>\n",
       "      <td>NaN</td>\n",
       "      <td>170.0</td>\n",
       "    </tr>\n",
       "    <tr>\n",
       "      <th>4</th>\n",
       "      <td>a163aada139c4c7f87b0b1c0b466a50f</td>\n",
       "      <td>Иль Марко</td>\n",
       "      <td>пиццерия</td>\n",
       "      <td>Москва, Правобережная улица, 1Б</td>\n",
       "      <td>Северный административный округ</td>\n",
       "      <td>ежедневно, 10:00–22:00</td>\n",
       "      <td>5.0</td>\n",
       "      <td>1</td>\n",
       "      <td>148.0</td>\n",
       "      <td>средние</td>\n",
       "      <td>Средний счёт:400–600 ₽</td>\n",
       "      <td>500.0</td>\n",
       "      <td>NaN</td>\n",
       "    </tr>\n",
       "  </tbody>\n",
       "</table>\n",
       "</div>"
      ],
      "text/plain": [
       "                                 id                  name  category  \\\n",
       "0  0c3e3439a8c64ea5bf6ecd6ca6ae19f0                WoWфли      кафе   \n",
       "1  045780ada3474c57a2112e505d74b633        Четыре комнаты  ресторан   \n",
       "2  1070b6b59144425896c65889347fcff6                 Хазри      кафе   \n",
       "3  03ac7cd772104f65b58b349dc59f03ee  Dormouse Coffee Shop   кофейня   \n",
       "4  a163aada139c4c7f87b0b1c0b466a50f             Иль Марко  пиццерия   \n",
       "\n",
       "                               address                         district  \\\n",
       "0           Москва, улица Дыбенко, 7/1  Северный административный округ   \n",
       "1   Москва, улица Дыбенко, 36, корп. 1  Северный административный округ   \n",
       "2       Москва, Клязьминская улица, 15  Северный административный округ   \n",
       "3  Москва, улица Маршала Федоренко, 12  Северный административный округ   \n",
       "4      Москва, Правобережная улица, 1Б  Северный административный округ   \n",
       "\n",
       "                                               hours  rating  chain  seats  \\\n",
       "0                             ежедневно, 10:00–22:00     5.0      0    NaN   \n",
       "1                             ежедневно, 10:00–22:00     4.5      0    4.0   \n",
       "2  пн-чт 11:00–02:00; пт,сб 11:00–05:00; вс 11:00...     4.6      0   45.0   \n",
       "3                             ежедневно, 09:00–22:00     5.0      0    NaN   \n",
       "4                             ежедневно, 10:00–22:00     5.0      1  148.0   \n",
       "\n",
       "           price                       avg_bill  middle_avg_bill  \\\n",
       "0            NaN                            NaN              NaN   \n",
       "1  выше среднего       Средний счёт:1500–1600 ₽           1550.0   \n",
       "2        средние         Средний счёт:от 1000 ₽           1000.0   \n",
       "3            NaN  Цена чашки капучино:155–185 ₽              NaN   \n",
       "4        средние         Средний счёт:400–600 ₽            500.0   \n",
       "\n",
       "   middle_coffee_cup  \n",
       "0                NaN  \n",
       "1                NaN  \n",
       "2                NaN  \n",
       "3              170.0  \n",
       "4                NaN  "
      ]
     },
     "execution_count": 12,
     "metadata": {},
     "output_type": "execute_result"
    }
   ],
   "source": [
    "df_merged.head()"
   ]
  },
  {
   "cell_type": "code",
   "execution_count": 13,
   "id": "57af03fc-655d-4010-90f1-f47a130e57e5",
   "metadata": {},
   "outputs": [
    {
     "data": {
      "text/plain": [
       "id                    object\n",
       "name                  object\n",
       "category              object\n",
       "address               object\n",
       "district              object\n",
       "hours                 object\n",
       "rating               float64\n",
       "chain                  int64\n",
       "seats                float64\n",
       "price                 object\n",
       "avg_bill              object\n",
       "middle_avg_bill      float64\n",
       "middle_coffee_cup    float64\n",
       "dtype: object"
      ]
     },
     "execution_count": 13,
     "metadata": {},
     "output_type": "execute_result"
    }
   ],
   "source": [
    "df_merged.dtypes"
   ]
  },
  {
   "cell_type": "markdown",
   "id": "aae12dd4-0f49-4a22-ae57-75dbedcad8d7",
   "metadata": {},
   "source": [
    "- Преобразуем некоторые типы данных"
   ]
  },
  {
   "cell_type": "code",
   "execution_count": 14,
   "id": "987f2f8e-385f-444f-84af-b7f1e9237fa5",
   "metadata": {},
   "outputs": [],
   "source": [
    "df_merged['category'] = df_merged['category'].astype('category')"
   ]
  },
  {
   "cell_type": "code",
   "execution_count": 15,
   "id": "ecf2d62b-bccd-47ed-8cd4-d710550e02de",
   "metadata": {},
   "outputs": [],
   "source": [
    "df_merged['chain'] = df_merged['chain'].astype('bool')"
   ]
  },
  {
   "cell_type": "code",
   "execution_count": 16,
   "id": "5b5421e9-6c9f-4319-853f-8c14d88194da",
   "metadata": {},
   "outputs": [
    {
     "data": {
      "text/plain": [
       "id                     object\n",
       "name                   object\n",
       "category             category\n",
       "address                object\n",
       "district               object\n",
       "hours                  object\n",
       "rating                float64\n",
       "chain                    bool\n",
       "seats                 float64\n",
       "price                  object\n",
       "avg_bill               object\n",
       "middle_avg_bill       float64\n",
       "middle_coffee_cup     float64\n",
       "dtype: object"
      ]
     },
     "execution_count": 16,
     "metadata": {},
     "output_type": "execute_result"
    }
   ],
   "source": [
    "df_merged.dtypes"
   ]
  },
  {
   "cell_type": "markdown",
   "id": "35f89c80-a61e-4eb5-a094-b040b52e473c",
   "metadata": {},
   "source": [
    "### Проверяем наличие пропусков в данных\n",
    "\n",
    "При первичном анализе мы обнаружили пропуски в нескольких столбцах. Узнаем абсолютное и относительное количество пропусков."
   ]
  },
  {
   "cell_type": "code",
   "execution_count": 17,
   "id": "ee3a3d49-7643-447f-95f0-2626322dc09c",
   "metadata": {},
   "outputs": [
    {
     "data": {
      "text/plain": [
       "id                      0\n",
       "name                    0\n",
       "category                0\n",
       "address                 0\n",
       "district                0\n",
       "rating                  0\n",
       "chain                   0\n",
       "hours                 536\n",
       "seats                3611\n",
       "avg_bill             4590\n",
       "price                5091\n",
       "middle_avg_bill      5257\n",
       "middle_coffee_cup    7871\n",
       "dtype: int64"
      ]
     },
     "execution_count": 17,
     "metadata": {},
     "output_type": "execute_result"
    }
   ],
   "source": [
    "df_merged.isna().sum().sort_values()"
   ]
  },
  {
   "cell_type": "code",
   "execution_count": 18,
   "id": "76cb695c-4d1e-407f-8a0c-8b302bfdbcf7",
   "metadata": {},
   "outputs": [
    {
     "name": "stdout",
     "output_type": "stream",
     "text": [
      "id                   0.000000\n",
      "name                 0.000000\n",
      "category             0.000000\n",
      "address              0.000000\n",
      "district             0.000000\n",
      "rating               0.000000\n",
      "chain                0.000000\n",
      "hours                0.063764\n",
      "seats                0.429574\n",
      "avg_bill             0.546039\n",
      "price                0.605639\n",
      "middle_avg_bill      0.625387\n",
      "middle_coffee_cup    0.936355\n",
      "dtype: float64\n"
     ]
    }
   ],
   "source": [
    "sort_perc = (df_merged.isna().sum() / df_merged.shape[0]).sort_values()\n",
    "print(sort_perc)"
   ]
  },
  {
   "cell_type": "markdown",
   "id": "c50738bd-7a3c-4589-9131-6373a3d7a4ca",
   "metadata": {},
   "source": [
    "- Почему могли взяться пропуски - проанализируем\n",
    "\n",
    "hours - Заведения без точного расписания или ошибка в выгрузке\n",
    "\n",
    "seat - Маленькие заведения/ларьки, где не указывается число мест\n",
    "\n",
    "price, avg_bill - \tНе все заведения указывают цену (особенно недорогие или новые)\n",
    "\n",
    "middle_avg_bill - \tНе заполнено, если avg_bill не начинается с «Средний счёт»\n",
    "\n",
    "middle_coffe_cup - число с оценкой одной чашки капучино, которое указано только для значений из столбца avg_bill\n",
    "\n",
    "- Что делать с этими пропусками?\n",
    "\n",
    "1) hours - укажем 'не указано'\n",
    "2) price, avg_bill, middle_avg_bill - буду анализировать по заполненным строкам"
   ]
  },
  {
   "cell_type": "code",
   "execution_count": 19,
   "id": "51e0b7f7-cb44-4a0b-b7ba-00baa935ac40",
   "metadata": {},
   "outputs": [],
   "source": [
    "df_merged['hours']= df_merged['hours'].fillna('Не указано')"
   ]
  },
  {
   "cell_type": "markdown",
   "id": "8372486c-f91e-4f21-85be-4d00ed53b9de",
   "metadata": {},
   "source": [
    "### Явные и неявные дубликаты в данных\n",
    "\n",
    "Проверим данные на наличие явных и неявных дубликатов. Начнём с полных дубликатов:"
   ]
  },
  {
   "cell_type": "code",
   "execution_count": 20,
   "id": "ff490481-971f-4385-a539-5ed0b0433707",
   "metadata": {},
   "outputs": [
    {
     "data": {
      "text/plain": [
       "0"
      ]
     },
     "execution_count": 20,
     "metadata": {},
     "output_type": "execute_result"
    }
   ],
   "source": [
    "df_merged.duplicated().sum()"
   ]
  },
  {
   "cell_type": "markdown",
   "id": "0fc46804-52f0-48d7-b0c3-7ddbc8952b45",
   "metadata": {},
   "source": [
    "В объедененном датафрейме нет полных строк дубликатов. \n",
    "\n",
    "Далее проверим неявные"
   ]
  },
  {
   "cell_type": "code",
   "execution_count": 21,
   "id": "536dc137-c1ad-4a71-aef4-9b51a0036a25",
   "metadata": {},
   "outputs": [
    {
     "data": {
      "text/plain": [
       "0"
      ]
     },
     "execution_count": 21,
     "metadata": {},
     "output_type": "execute_result"
    }
   ],
   "source": [
    "df_merged.duplicated(subset = 'id').sum()"
   ]
  },
  {
   "cell_type": "markdown",
   "id": "d7a2e430-bcb2-4686-90d2-1562ff5b7761",
   "metadata": {},
   "source": [
    "Тут тоже всё хорошо — каждая строка соответствует уникальному клиенту. \n",
    "\n",
    "Теперь проверим корректность написания категориальных значений в данных `category`."
   ]
  },
  {
   "cell_type": "code",
   "execution_count": 22,
   "id": "d5fcbb0b-08a1-4e7a-802c-69231c1da6f8",
   "metadata": {},
   "outputs": [
    {
     "data": {
      "text/plain": [
       "['бар,паб',\n",
       " 'булочная',\n",
       " 'быстрое питание',\n",
       " 'кафе',\n",
       " 'кофейня',\n",
       " 'пиццерия',\n",
       " 'ресторан',\n",
       " 'столовая']"
      ]
     },
     "execution_count": 22,
     "metadata": {},
     "output_type": "execute_result"
    }
   ],
   "source": [
    "sorted(df_merged['category'].unique())"
   ]
  },
  {
   "cell_type": "code",
   "execution_count": 23,
   "id": "099236ad-d019-479c-ae93-c39a44c2e679",
   "metadata": {},
   "outputs": [
    {
     "data": {
      "text/plain": [
       "category\n",
       "кафе               2378\n",
       "ресторан           2043\n",
       "кофейня            1413\n",
       "бар,паб             765\n",
       "пиццерия            633\n",
       "быстрое питание     603\n",
       "столовая            315\n",
       "булочная            256\n",
       "Name: count, dtype: int64"
      ]
     },
     "execution_count": 23,
     "metadata": {},
     "output_type": "execute_result"
    }
   ],
   "source": [
    "df_merged['category'].value_counts()"
   ]
  },
  {
   "cell_type": "markdown",
   "id": "ccb243d2-5b62-4786-b27e-c85abbf4a0c1",
   "metadata": {},
   "source": [
    "Данные все в нижнем регистре - чистые удобные для дальнейшей работы"
   ]
  },
  {
   "cell_type": "markdown",
   "id": "61213404-4d81-409b-a1ae-55895305c55c",
   "metadata": {},
   "source": [
    "- Создадим дополнительный столбец"
   ]
  },
  {
   "cell_type": "code",
   "execution_count": 24,
   "id": "d2031309-de71-4bd8-9695-6e35cc5b7da5",
   "metadata": {},
   "outputs": [],
   "source": [
    "df_merged['is_24_7'] = df_merged['hours'].str.lower().str.contains(\n",
    "    r'круглосуточно|24/7|ежедневно.*(?:00:00|0:00).*23:5|ежедневно.*круглосуточно',\n",
    "    regex=True, \n",
    "    na=False\n",
    ")"
   ]
  },
  {
   "cell_type": "code",
   "execution_count": 25,
   "id": "0d94cdb2-7ac9-493a-978b-9c690d9026f7",
   "metadata": {},
   "outputs": [
    {
     "data": {
      "text/plain": [
       "is_24_7\n",
       "False    7633\n",
       "True      773\n",
       "Name: count, dtype: int64"
      ]
     },
     "execution_count": 25,
     "metadata": {},
     "output_type": "execute_result"
    }
   ],
   "source": [
    "df_merged['is_24_7'].value_counts()\n"
   ]
  },
  {
   "cell_type": "markdown",
   "id": "526bc188-b6c4-4b06-b704-e0d95a6ab63c",
   "metadata": {},
   "source": [
    "- Промежуточный вывод шага 1 и шага 2\n",
    "\n",
    "Сначала посмотрели и изучили информацию о двух датафреймах, далее пробразовали их в один - очистили данные , проверили их на дубликаты, ихменили типы данных\n",
    "\n",
    "Даалее приступаем к шагу 3"
   ]
  },
  {
   "cell_type": "markdown",
   "id": "f3c5c004-fb32-40b9-8a4c-debf14c3e71a",
   "metadata": {},
   "source": [
    "Шаг 3. Исследовательский анализ данных"
   ]
  },
  {
   "cell_type": "markdown",
   "id": "171852ad-debc-4f58-a493-e021226949df",
   "metadata": {},
   "source": [
    "Какие категории заведений представлены в данных? Исследуйте количество объектов общественного питания по каждой категории. Результат сопроводите подходящей визуализацией."
   ]
  },
  {
   "cell_type": "code",
   "execution_count": 26,
   "id": "5cafa6f7-65be-440b-b665-d3a00480f203",
   "metadata": {},
   "outputs": [
    {
     "data": {
      "text/plain": [
       "['бар,паб',\n",
       " 'булочная',\n",
       " 'быстрое питание',\n",
       " 'кафе',\n",
       " 'кофейня',\n",
       " 'пиццерия',\n",
       " 'ресторан',\n",
       " 'столовая']"
      ]
     },
     "execution_count": 26,
     "metadata": {},
     "output_type": "execute_result"
    }
   ],
   "source": [
    "sorted(df_merged['category'].unique())"
   ]
  },
  {
   "cell_type": "code",
   "execution_count": 27,
   "id": "71842c30-eb3a-495a-852f-64a03ca19acd",
   "metadata": {},
   "outputs": [
    {
     "data": {
      "text/plain": [
       "category\n",
       "кафе               2378\n",
       "ресторан           2043\n",
       "кофейня            1413\n",
       "бар,паб             765\n",
       "пиццерия            633\n",
       "быстрое питание     603\n",
       "столовая            315\n",
       "булочная            256\n",
       "Name: count, dtype: int64"
      ]
     },
     "execution_count": 27,
     "metadata": {},
     "output_type": "execute_result"
    }
   ],
   "source": [
    "df_merged['category'].value_counts()"
   ]
  },
  {
   "cell_type": "code",
   "execution_count": 28,
   "id": "c7e3e1d3-e3c8-4b18-afc4-8710822d2ccb",
   "metadata": {},
   "outputs": [
    {
     "data": {
      "text/plain": [
       "<function matplotlib.pyplot.show(close=None, block=None)>"
      ]
     },
     "execution_count": 28,
     "metadata": {},
     "output_type": "execute_result"
    },
    {
     "data": {
      "image/png": "[encoded data removed]",
      "text/plain": [
       "<Figure size 720x576 with 1 Axes>"
      ]
     },
     "metadata": {
      "needs_background": "light"
     },
     "output_type": "display_data"
    }
   ],
   "source": [
    "plt.figure(figsize=(10,8))\n",
    "df_merged['category'].value_counts().plot(\n",
    "    kind = 'bar',\n",
    "    rot = 45,\n",
    "    legend = False,\n",
    "    title = f'Kоличество объектов общественного питания по каждой категории'\n",
    ")\n",
    "\n",
    "plt.xlabel('Кол-во объектов питания')\n",
    "plt.ylabel('Название категорий')\n",
    "plt.grid()\n",
    "plt.show"
   ]
  },
  {
   "cell_type": "markdown",
   "id": "61d0bc9c-4e1c-495c-b080-d485b3c2048b",
   "metadata": {},
   "source": [
    "Чаще всего встречаются кафе, рестораны и кофейни. Редко — бытсрое питание, столовые и булочные."
   ]
  },
  {
   "cell_type": "markdown",
   "id": "59af4fa5-a739-40b4-b014-61798675e2d0",
   "metadata": {},
   "source": [
    "Какие административные районы Москвы присутствуют в данных? Исследуйте распределение количества заведений по административным районам Москвы, а также отдельно распределение заведений каждой категории в Центральном административном округе Москвы. Результат сопроводите подходящими визуализациями."
   ]
  },
  {
   "cell_type": "code",
   "execution_count": 29,
   "id": "b31c907a-d613-4e96-b750-f38cd309aca9",
   "metadata": {},
   "outputs": [
    {
     "name": "stdout",
     "output_type": "stream",
     "text": [
      "Уникальные административные округа Москвы:\n",
      "['Северный административный округ'\n",
      " 'Северо-Восточный административный округ'\n",
      " 'Северо-Западный административный округ'\n",
      " 'Западный административный округ' 'Центральный административный округ'\n",
      " 'Восточный административный округ' 'Юго-Восточный административный округ'\n",
      " 'Южный административный округ' 'Юго-Западный административный округ']\n"
     ]
    }
   ],
   "source": [
    "districts = df_merged['district'].unique()\n",
    "print('Уникальные административные округа Москвы:')\n",
    "print(districts)"
   ]
  },
  {
   "cell_type": "code",
   "execution_count": 30,
   "id": "a0dc840f-cc7c-434f-bc03-a2c688580b3f",
   "metadata": {},
   "outputs": [
    {
     "data": {
      "text/plain": [
       "district\n",
       "Центральный административный округ         2242\n",
       "Северный административный округ             900\n",
       "Южный административный округ                892\n",
       "Северо-Восточный административный округ     891\n",
       "Западный административный округ             851\n",
       "Восточный административный округ            798\n",
       "Юго-Восточный административный округ        714\n",
       "Юго-Западный административный округ         709\n",
       "Северо-Западный административный округ      409\n",
       "Name: count, dtype: int64"
      ]
     },
     "metadata": {},
     "output_type": "display_data"
    }
   ],
   "source": [
    "district_counts = df_merged['district'].value_counts()\n",
    "display(district_counts)"
   ]
  },
  {
   "cell_type": "code",
   "execution_count": 31,
   "id": "99361710-7a1a-4fc8-87e8-4c652a6d7ba0",
   "metadata": {},
   "outputs": [
    {
     "data": {
      "text/plain": [
       "category\n",
       "ресторан           670\n",
       "кафе               464\n",
       "кофейня            428\n",
       "бар,паб            364\n",
       "пиццерия           113\n",
       "быстрое питание     87\n",
       "столовая            66\n",
       "булочная            50\n",
       "Name: count, dtype: int64"
      ]
     },
     "metadata": {},
     "output_type": "display_data"
    }
   ],
   "source": [
    "central_df = df_merged[df_merged['district'] == 'Центральный административный округ']\n",
    "central_category_counts = central_df['category'].value_counts()\n",
    "display(central_category_counts)"
   ]
  },
  {
   "cell_type": "code",
   "execution_count": 32,
   "id": "b4e8cc19-e604-4794-92a3-219809de0791",
   "metadata": {},
   "outputs": [
    {
     "data": {
      "image/png": "[encoded data removed]",
      "text/plain": [
       "<Figure size 864x432 with 1 Axes>"
      ]
     },
     "metadata": {
      "needs_background": "light"
     },
     "output_type": "display_data"
    }
   ],
   "source": [
    "plt.figure(figsize=(12, 6))\n",
    "district_counts.plot(\n",
    "    kind='bar',\n",
    "    rot=90,\n",
    "    title='Распределение заведений по административным округам Москвы'\n",
    ")\n",
    "plt.xlabel('Округ')\n",
    "plt.ylabel('Количество заведений')\n",
    "plt.grid()\n",
    "plt.tight_layout()\n",
    "plt.show()\n"
   ]
  },
  {
   "cell_type": "code",
   "execution_count": 33,
   "id": "50e97383-c9c1-4076-85c3-13966ebfe3dd",
   "metadata": {},
   "outputs": [
    {
     "data": {
      "image/png": "[encoded data removed]",
      "text/plain": [
       "<Figure size 864x432 with 1 Axes>"
      ]
     },
     "metadata": {
      "needs_background": "light"
     },
     "output_type": "display_data"
    }
   ],
   "source": [
    "plt.figure(figsize=(12, 6))\n",
    "central_category_counts .plot(\n",
    "    kind='bar',\n",
    "    rot=60,\n",
    "    title='Распределение заведений в Центральном административном округе Москвы'\n",
    ")\n",
    "plt.xlabel('Категория')\n",
    "plt.ylabel('Количество заведений')\n",
    "plt.grid()\n",
    "plt.tight_layout()\n",
    "plt.show()\n"
   ]
  },
  {
   "cell_type": "markdown",
   "id": "49a2efda-2d81-4c87-99d4-5796a78d1e6b",
   "metadata": {},
   "source": [
    "Вывод:\n",
    "\n",
    "Центральный административный округ (ЦАО) лидирует с большим отрывом — 2242 заведения (почти в 2.5 раза больше, чем в других округах). Это объясняется высокой плотностью коммерческой активности в центре города.\n",
    "\n",
    "Наименьшее количество заведений — в Северо-Западном округе (409), что может быть связано с меньшей плотностью населения или инфраструктурными особенностями.\n",
    "\n",
    "Остальные округа имеют схожие средние показатели от 700 до 900. это указвает на равномерное распределение спроса вне центра."
   ]
  },
  {
   "cell_type": "markdown",
   "id": "bbedf82b-b0ce-40a4-a4d1-7841bb6673dc",
   "metadata": {},
   "source": [
    "Изучите соотношение сетевых и несетевых заведений в целом по всем данным и в разрезе категорий заведения. Каких заведений больше — сетевых или несетевых? Какие категории заведений чаще являются сетевыми? Исследуйте данные, ответьте на вопросы и постройте необходимые визуализации."
   ]
  },
  {
   "cell_type": "code",
   "execution_count": 34,
   "id": "c7b2b78c-a72e-49c3-99a7-e29884dbcb2a",
   "metadata": {},
   "outputs": [
    {
     "data": {
      "text/plain": [
       "chain\n",
       "False    5201\n",
       "True     3205\n",
       "Name: count, dtype: int64"
      ]
     },
     "metadata": {},
     "output_type": "display_data"
    }
   ],
   "source": [
    "chain_counts = df_merged['chain'].value_counts()\n",
    "display(chain_counts)"
   ]
  },
  {
   "cell_type": "code",
   "execution_count": 35,
   "id": "da9b2385-5408-4ab9-a054-9a788b30d87c",
   "metadata": {},
   "outputs": [
    {
     "name": "stderr",
     "output_type": "stream",
     "text": [
      "/tmp/ipykernel_292/1209080528.py:1: FutureWarning: The default of observed=False is deprecated and will be changed to True in a future version of pandas. Pass observed=False to retain current behavior or observed=True to adopt the future default and silence this warning.\n",
      "  chain_counts_category = df_merged.groupby('category')['chain'].value_counts(normalize = True).unstack().fillna(0)\n"
     ]
    },
    {
     "data": {
      "text/html": [
       "<div>\n",
       "<style scoped>\n",
       "    .dataframe tbody tr th:only-of-type {\n",
       "        vertical-align: middle;\n",
       "    }\n",
       "\n",
       "    .dataframe tbody tr th {\n",
       "        vertical-align: top;\n",
       "    }\n",
       "\n",
       "    .dataframe thead th {\n",
       "        text-align: right;\n",
       "    }\n",
       "</style>\n",
       "<table border=\"1\" class=\"dataframe\">\n",
       "  <thead>\n",
       "    <tr style=\"text-align: right;\">\n",
       "      <th>chain</th>\n",
       "      <th>False</th>\n",
       "      <th>True</th>\n",
       "    </tr>\n",
       "    <tr>\n",
       "      <th>category</th>\n",
       "      <th></th>\n",
       "      <th></th>\n",
       "    </tr>\n",
       "  </thead>\n",
       "  <tbody>\n",
       "    <tr>\n",
       "      <th>бар,паб</th>\n",
       "      <td>0.779085</td>\n",
       "      <td>0.220915</td>\n",
       "    </tr>\n",
       "    <tr>\n",
       "      <th>булочная</th>\n",
       "      <td>0.386719</td>\n",
       "      <td>0.613281</td>\n",
       "    </tr>\n",
       "    <tr>\n",
       "      <th>быстрое питание</th>\n",
       "      <td>0.615257</td>\n",
       "      <td>0.384743</td>\n",
       "    </tr>\n",
       "    <tr>\n",
       "      <th>кафе</th>\n",
       "      <td>0.672414</td>\n",
       "      <td>0.327586</td>\n",
       "    </tr>\n",
       "    <tr>\n",
       "      <th>кофейня</th>\n",
       "      <td>0.490446</td>\n",
       "      <td>0.509554</td>\n",
       "    </tr>\n",
       "    <tr>\n",
       "      <th>пиццерия</th>\n",
       "      <td>0.478673</td>\n",
       "      <td>0.521327</td>\n",
       "    </tr>\n",
       "    <tr>\n",
       "      <th>ресторан</th>\n",
       "      <td>0.642682</td>\n",
       "      <td>0.357318</td>\n",
       "    </tr>\n",
       "    <tr>\n",
       "      <th>столовая</th>\n",
       "      <td>0.720635</td>\n",
       "      <td>0.279365</td>\n",
       "    </tr>\n",
       "  </tbody>\n",
       "</table>\n",
       "</div>"
      ],
      "text/plain": [
       "chain               False     True \n",
       "category                           \n",
       "бар,паб          0.779085  0.220915\n",
       "булочная         0.386719  0.613281\n",
       "быстрое питание  0.615257  0.384743\n",
       "кафе             0.672414  0.327586\n",
       "кофейня          0.490446  0.509554\n",
       "пиццерия         0.478673  0.521327\n",
       "ресторан         0.642682  0.357318\n",
       "столовая         0.720635  0.279365"
      ]
     },
     "metadata": {},
     "output_type": "display_data"
    }
   ],
   "source": [
    "chain_counts_category = df_merged.groupby('category')['chain'].value_counts(normalize = True).unstack().fillna(0)\n",
    "display(chain_counts_category)"
   ]
  },
  {
   "cell_type": "code",
   "execution_count": 36,
   "id": "8533154d-558c-46b8-ac59-17501642ded9",
   "metadata": {},
   "outputs": [
    {
     "data": {
      "image/png": "[encoded data removed]",
      "text/plain": [
       "<Figure size 432x432 with 1 Axes>"
      ]
     },
     "metadata": {},
     "output_type": "display_data"
    }
   ],
   "source": [
    "plt.figure(figsize=(6, 6))\n",
    "chain_counts.plot(\n",
    "    kind='pie',\n",
    "    autopct='%1.1f%%',\n",
    "    labels=['Несетевые', 'Сетевые'],\n",
    "    title='Соотношение сетевых и несетевых заведений',\n",
    "    ylabel=''\n",
    ")\n",
    "plt.show()"
   ]
  },
  {
   "cell_type": "code",
   "execution_count": 37,
   "id": "127ac1ed-fa6f-4bd3-8bcd-f6a3baa8ee13",
   "metadata": {},
   "outputs": [
    {
     "name": "stderr",
     "output_type": "stream",
     "text": [
      "/tmp/ipykernel_292/3351393203.py:2: FutureWarning: The default of observed=False is deprecated and will be changed to True in a future version of pandas. Pass observed=False to retain current behavior or observed=True to adopt the future default and silence this warning.\n",
      "  grouped = df_merged.groupby('category')['chain'].value_counts(normalize = True).unstack().fillna(0)\n"
     ]
    },
    {
     "data": {
      "image/png": "[encoded data removed]",
      "text/plain": [
       "<Figure size 504x216 with 1 Axes>"
      ]
     },
     "metadata": {
      "needs_background": "light"
     },
     "output_type": "display_data"
    }
   ],
   "source": [
    "# Построим график столбчатой диаграммы\n",
    "grouped = df_merged.groupby('category')['chain'].value_counts(normalize = True).unstack().fillna(0)\n",
    "grouped.plot(kind='bar',\n",
    "               title=f'Соотношение сетевых и несетевых заведений в разрезе категорий заведения',\n",
    "               legend=True,\n",
    "               ylabel='Количество клиентов',\n",
    "               xlabel='Категория',\n",
    "               rot = 45,\n",
    "               figsize=(7, 3))\n",
    "plt.grid()\n",
    "\n",
    "# Выводим график\n",
    "plt.show()"
   ]
  },
  {
   "cell_type": "markdown",
   "id": "5772ddf7-8243-4396-ae22-38821ea0fc90",
   "metadata": {},
   "source": [
    "Вывод: \n",
    "\n",
    "По результатом мы видим, что НЕсетевых заведений преобладает. 61.9% к 38.1%\n",
    "\n",
    "График сооотношения сетевых и несетевых подтверждает общемировую тенденцию: сети доминируют там, где важны скорость обслуживания и единый стандарт качества. булочные, кофейни и пицерии чаще представлены сетями — их легче масштабировать и стандартизировать. Чем \"проще\" продукт (бургеры, кофе, пицца), тем выше доля сетей. Чем сложнее концепция (рестораны, бары), тем больше независимых заведений."
   ]
  },
  {
   "cell_type": "markdown",
   "id": "a17c75c3-e796-467c-a1de-485589143516",
   "metadata": {},
   "source": [
    "Исследуйте количество посадочных мест в заведениях. Встречаются ли в данных аномальные значения или выбросы? Если да, то с чем они могут быть связаны? Приведите для каждой категории заведений наиболее типичное для него количество посадочных мест. Результат сопроводите подходящими визуализациями."
   ]
  },
  {
   "cell_type": "code",
   "execution_count": 38,
   "id": "422a4d91-48c6-4a29-8a3c-76b5c753a9be",
   "metadata": {},
   "outputs": [
    {
     "data": {
      "text/plain": [
       "count    4795.000000\n",
       "mean      108.421689\n",
       "std       122.833396\n",
       "min         0.000000\n",
       "25%        40.000000\n",
       "50%        75.000000\n",
       "75%       140.000000\n",
       "max      1288.000000\n",
       "Name: seats, dtype: float64"
      ]
     },
     "metadata": {},
     "output_type": "display_data"
    }
   ],
   "source": [
    "# Общая статистика\n",
    "seat_stats = df_merged['seats'].describe()\n",
    "display(seat_stats)"
   ]
  },
  {
   "cell_type": "markdown",
   "id": "f960d323-ffc8-4d71-a562-433da368bf73",
   "metadata": {},
   "source": [
    "Среднее (mean) = 108 — это сильно больше медианы (50% квантиль = 75), что говорит о асимметрии распределения: есть высокие значения, которые тянут среднее вверх.\n",
    "\n",
    "Максимум = 1288 — это в 10+ раз больше медианы. Вероятный выброс.\n",
    "\n",
    "Минимум = 0 — тоже подозрительно. Может быть ошибка, или это просто кофейный киоск без посадки.\n",
    "\n"
   ]
  },
  {
   "cell_type": "code",
   "execution_count": 39,
   "id": "db85983c-69f9-46ca-bf87-f652d31eea81",
   "metadata": {},
   "outputs": [
    {
     "name": "stdout",
     "output_type": "stream",
     "text": [
      "IQR: 100.0\n",
      "Нижняя граница: -110.0\n",
      "Верхняя граница: 290.0\n"
     ]
    }
   ],
   "source": [
    "# Проведем дополнительные исследования\n",
    "Q1 = df_merged['seats'].quantile(0.25)  # 25-й процентиль\n",
    "Q3 = df_merged['seats'].quantile(0.75)  # 75-й процентиль\n",
    "IQR = Q3 - Q1\n",
    "\n",
    "# Границы для определения выбросов\n",
    "lower_bound = Q1 - 1.5 * IQR\n",
    "upper_bound = Q3 + 1.5 * IQR\n",
    "\n",
    "print(f\"IQR: {IQR}\")\n",
    "print(f\"Нижняя граница: {lower_bound}\")\n",
    "print(f\"Верхняя граница: {upper_bound}\")\n"
   ]
  },
  {
   "cell_type": "code",
   "execution_count": 40,
   "id": "f5dd7b4a-9b0d-4a09-90da-bc045e8954a7",
   "metadata": {},
   "outputs": [
    {
     "data": {
      "text/html": [
       "<div>\n",
       "<style scoped>\n",
       "    .dataframe tbody tr th:only-of-type {\n",
       "        vertical-align: middle;\n",
       "    }\n",
       "\n",
       "    .dataframe tbody tr th {\n",
       "        vertical-align: top;\n",
       "    }\n",
       "\n",
       "    .dataframe thead th {\n",
       "        text-align: right;\n",
       "    }\n",
       "</style>\n",
       "<table border=\"1\" class=\"dataframe\">\n",
       "  <thead>\n",
       "    <tr style=\"text-align: right;\">\n",
       "      <th></th>\n",
       "      <th>name</th>\n",
       "      <th>category</th>\n",
       "      <th>seats</th>\n",
       "    </tr>\n",
       "  </thead>\n",
       "  <tbody>\n",
       "    <tr>\n",
       "      <th>6838</th>\n",
       "      <td>Alternative coffee</td>\n",
       "      <td>кофейня</td>\n",
       "      <td>1288.0</td>\n",
       "    </tr>\n",
       "    <tr>\n",
       "      <th>6518</th>\n",
       "      <td>DelonixCafe</td>\n",
       "      <td>ресторан</td>\n",
       "      <td>1288.0</td>\n",
       "    </tr>\n",
       "    <tr>\n",
       "      <th>6658</th>\n",
       "      <td>ГудБар</td>\n",
       "      <td>бар,паб</td>\n",
       "      <td>1288.0</td>\n",
       "    </tr>\n",
       "    <tr>\n",
       "      <th>6690</th>\n",
       "      <td>Японская кухня</td>\n",
       "      <td>ресторан</td>\n",
       "      <td>1288.0</td>\n",
       "    </tr>\n",
       "    <tr>\n",
       "      <th>6771</th>\n",
       "      <td>Точка</td>\n",
       "      <td>кафе</td>\n",
       "      <td>1288.0</td>\n",
       "    </tr>\n",
       "    <tr>\n",
       "      <th>...</th>\n",
       "      <td>...</td>\n",
       "      <td>...</td>\n",
       "      <td>...</td>\n",
       "    </tr>\n",
       "    <tr>\n",
       "      <th>5287</th>\n",
       "      <td>Bob’s your uncle</td>\n",
       "      <td>ресторан</td>\n",
       "      <td>295.0</td>\n",
       "    </tr>\n",
       "    <tr>\n",
       "      <th>5148</th>\n",
       "      <td>Noba coffee</td>\n",
       "      <td>кофейня</td>\n",
       "      <td>295.0</td>\n",
       "    </tr>\n",
       "    <tr>\n",
       "      <th>5102</th>\n",
       "      <td>Гастромаркет Балчуг</td>\n",
       "      <td>бар,паб</td>\n",
       "      <td>295.0</td>\n",
       "    </tr>\n",
       "    <tr>\n",
       "      <th>5065</th>\n",
       "      <td>Bổ</td>\n",
       "      <td>быстрое питание</td>\n",
       "      <td>295.0</td>\n",
       "    </tr>\n",
       "    <tr>\n",
       "      <th>5206</th>\n",
       "      <td>Raw to Go</td>\n",
       "      <td>кофейня</td>\n",
       "      <td>295.0</td>\n",
       "    </tr>\n",
       "  </tbody>\n",
       "</table>\n",
       "<p>318 rows × 3 columns</p>\n",
       "</div>"
      ],
      "text/plain": [
       "                     name         category   seats\n",
       "6838   Alternative coffee          кофейня  1288.0\n",
       "6518          DelonixCafe         ресторан  1288.0\n",
       "6658               ГудБар          бар,паб  1288.0\n",
       "6690       Японская кухня         ресторан  1288.0\n",
       "6771                Точка             кафе  1288.0\n",
       "...                   ...              ...     ...\n",
       "5287     Bob’s your uncle         ресторан   295.0\n",
       "5148          Noba coffee          кофейня   295.0\n",
       "5102  Гастромаркет Балчуг          бар,паб   295.0\n",
       "5065                   Bổ  быстрое питание   295.0\n",
       "5206            Raw to Go          кофейня   295.0\n",
       "\n",
       "[318 rows x 3 columns]"
      ]
     },
     "metadata": {},
     "output_type": "display_data"
    }
   ],
   "source": [
    "outliers = df_merged[df_merged['seats'] > upper_bound]\n",
    "display(outliers[['name', 'category', 'seats']].sort_values(by='seats', ascending=False))"
   ]
  },
  {
   "cell_type": "code",
   "execution_count": 41,
   "id": "3911e2d1-66c9-47af-aeb0-9b6a62026e13",
   "metadata": {},
   "outputs": [
    {
     "name": "stderr",
     "output_type": "stream",
     "text": [
      "/opt/conda/lib/python3.9/site-packages/seaborn/categorical.py:253: FutureWarning: The default of observed=False is deprecated and will be changed to True in a future version of pandas. Pass observed=False to retain current behavior or observed=True to adopt the future default and silence this warning.\n",
      "  grouped_vals = vals.groupby(grouper)\n"
     ]
    },
    {
     "data": {
      "image/png": "[encoded data removed]",
      "text/plain": [
       "<Figure size 1008x432 with 1 Axes>"
      ]
     },
     "metadata": {
      "needs_background": "light"
     },
     "output_type": "display_data"
    }
   ],
   "source": [
    "# C ВЫБРОСАМИ\n",
    "plt.figure(figsize=(14, 6))\n",
    "sns.boxplot(data=df_merged, x='category', y='seats')\n",
    "plt.title('Распределение посадочных мест по категориям (с выбросами)')\n",
    "plt.xlabel('Категория заведения')\n",
    "plt.ylabel('Количество посадочных мест')\n",
    "plt.xticks(rotation=45)\n",
    "plt.tight_layout()\n",
    "plt.show()"
   ]
  },
  {
   "cell_type": "code",
   "execution_count": 42,
   "id": "f5c5e065-f944-4069-b60f-576b35f84762",
   "metadata": {},
   "outputs": [],
   "source": [
    "# Межквартильный размах\n",
    "Q1 = df_merged['seats'].quantile(0.25)\n",
    "Q3 = df_merged['seats'].quantile(0.75)\n",
    "IQR = Q3 - Q1\n",
    "upper_bound = Q3 + 1.5 * IQR\n",
    "# Отфильтрованные данные без выбросов\n",
    "df_seats_clean = df_merged[df_merged['seats'] <= upper_bound]"
   ]
  },
  {
   "cell_type": "code",
   "execution_count": 43,
   "id": "6d6c84b0-129d-4000-a0f3-9ebf69f730fb",
   "metadata": {},
   "outputs": [
    {
     "name": "stderr",
     "output_type": "stream",
     "text": [
      "/opt/conda/lib/python3.9/site-packages/seaborn/categorical.py:253: FutureWarning: The default of observed=False is deprecated and will be changed to True in a future version of pandas. Pass observed=False to retain current behavior or observed=True to adopt the future default and silence this warning.\n",
      "  grouped_vals = vals.groupby(grouper)\n"
     ]
    },
    {
     "data": {
      "image/png": "[encoded data removed]",
      "text/plain": [
       "<Figure size 1008x432 with 1 Axes>"
      ]
     },
     "metadata": {
      "needs_background": "light"
     },
     "output_type": "display_data"
    }
   ],
   "source": [
    "# БЕЗ ВЫБРОСОВ\n",
    "plt.figure(figsize=(14, 6))\n",
    "sns.boxplot(data=df_seats_clean, x='category', y='seats')\n",
    "plt.title('Распределение посадочных мест по категориям (без выбросов)')\n",
    "plt.xlabel('Категория заведения')\n",
    "plt.ylabel('Количество посадочных мест')\n",
    "plt.xticks(rotation=45)\n",
    "plt.tight_layout()\n",
    "plt.show()"
   ]
  },
  {
   "cell_type": "code",
   "execution_count": 44,
   "id": "f91a520b-2291-4d39-83c9-3b1defc9b0a4",
   "metadata": {},
   "outputs": [
    {
     "data": {
      "image/png": "[encoded data removed]",
      "text/plain": [
       "<Figure size 720x432 with 1 Axes>"
      ]
     },
     "metadata": {
      "needs_background": "light"
     },
     "output_type": "display_data"
    }
   ],
   "source": [
    "plt.figure(figsize=(10, 6))\n",
    "df_seats_clean['seats'].hist(bins=40, color='skyblue', edgecolor='black')\n",
    "plt.title('Распределение количества посадочных мест (без выбросов)')\n",
    "plt.xlabel('Количество мест')\n",
    "plt.ylabel('Количество заведений')\n",
    "plt.grid(True)\n",
    "plt.tight_layout()\n",
    "plt.show()\n"
   ]
  },
  {
   "cell_type": "code",
   "execution_count": 45,
   "id": "fe376f99-71cc-4b41-a80d-e20c92e95d22",
   "metadata": {},
   "outputs": [
    {
     "name": "stderr",
     "output_type": "stream",
     "text": [
      "/tmp/ipykernel_292/3877705466.py:1: FutureWarning: The default of observed=False is deprecated and will be changed to True in a future version of pandas. Pass observed=False to retain current behavior or observed=True to adopt the future default and silence this warning.\n",
      "  typical_seats = df_seats_clean.groupby('category')['seats'].agg(['median', lambda x: x.mode().iloc[0]]).reset_index()\n"
     ]
    },
    {
     "data": {
      "text/html": [
       "<div>\n",
       "<style scoped>\n",
       "    .dataframe tbody tr th:only-of-type {\n",
       "        vertical-align: middle;\n",
       "    }\n",
       "\n",
       "    .dataframe tbody tr th {\n",
       "        vertical-align: top;\n",
       "    }\n",
       "\n",
       "    .dataframe thead th {\n",
       "        text-align: right;\n",
       "    }\n",
       "</style>\n",
       "<table border=\"1\" class=\"dataframe\">\n",
       "  <thead>\n",
       "    <tr style=\"text-align: right;\">\n",
       "      <th></th>\n",
       "      <th>Категория заведения</th>\n",
       "      <th>Медиана посадочных мест</th>\n",
       "      <th>Мода посадочных мест</th>\n",
       "    </tr>\n",
       "  </thead>\n",
       "  <tbody>\n",
       "    <tr>\n",
       "      <th>0</th>\n",
       "      <td>бар,паб</td>\n",
       "      <td>77.0</td>\n",
       "      <td>60.0</td>\n",
       "    </tr>\n",
       "    <tr>\n",
       "      <th>1</th>\n",
       "      <td>булочная</td>\n",
       "      <td>48.0</td>\n",
       "      <td>0.0</td>\n",
       "    </tr>\n",
       "    <tr>\n",
       "      <th>2</th>\n",
       "      <td>быстрое питание</td>\n",
       "      <td>60.0</td>\n",
       "      <td>0.0</td>\n",
       "    </tr>\n",
       "    <tr>\n",
       "      <th>3</th>\n",
       "      <td>кафе</td>\n",
       "      <td>55.0</td>\n",
       "      <td>40.0</td>\n",
       "    </tr>\n",
       "    <tr>\n",
       "      <th>4</th>\n",
       "      <td>кофейня</td>\n",
       "      <td>70.0</td>\n",
       "      <td>100.0</td>\n",
       "    </tr>\n",
       "    <tr>\n",
       "      <th>5</th>\n",
       "      <td>пиццерия</td>\n",
       "      <td>50.0</td>\n",
       "      <td>40.0</td>\n",
       "    </tr>\n",
       "    <tr>\n",
       "      <th>6</th>\n",
       "      <td>ресторан</td>\n",
       "      <td>80.0</td>\n",
       "      <td>100.0</td>\n",
       "    </tr>\n",
       "    <tr>\n",
       "      <th>7</th>\n",
       "      <td>столовая</td>\n",
       "      <td>70.0</td>\n",
       "      <td>40.0</td>\n",
       "    </tr>\n",
       "  </tbody>\n",
       "</table>\n",
       "</div>"
      ],
      "text/plain": [
       "  Категория заведения  Медиана посадочных мест  Мода посадочных мест\n",
       "0             бар,паб                     77.0                  60.0\n",
       "1            булочная                     48.0                   0.0\n",
       "2     быстрое питание                     60.0                   0.0\n",
       "3                кафе                     55.0                  40.0\n",
       "4             кофейня                     70.0                 100.0\n",
       "5            пиццерия                     50.0                  40.0\n",
       "6            ресторан                     80.0                 100.0\n",
       "7            столовая                     70.0                  40.0"
      ]
     },
     "metadata": {},
     "output_type": "display_data"
    }
   ],
   "source": [
    "\n",
    "typical_seats = df_seats_clean.groupby('category')['seats'].agg(['median', lambda x: x.mode().iloc[0]]).reset_index()\n",
    "typical_seats.columns = ['Категория заведения', 'Медиана посадочных мест', 'Мода посадочных мест']\n",
    "display(typical_seats)\n"
   ]
  },
  {
   "cell_type": "code",
   "execution_count": 46,
   "id": "f1f0e7d2-9ff6-4f7c-9802-248dfe2b4c83",
   "metadata": {},
   "outputs": [
    {
     "name": "stderr",
     "output_type": "stream",
     "text": [
      "/opt/conda/lib/python3.9/site-packages/seaborn/categorical.py:253: FutureWarning: The default of observed=False is deprecated and will be changed to True in a future version of pandas. Pass observed=False to retain current behavior or observed=True to adopt the future default and silence this warning.\n",
      "  grouped_vals = vals.groupby(grouper)\n"
     ]
    },
    {
     "data": {
      "image/png": "[encoded data removed]",
      "text/plain": [
       "<Figure size 864x432 with 1 Axes>"
      ]
     },
     "metadata": {
      "needs_background": "light"
     },
     "output_type": "display_data"
    }
   ],
   "source": [
    "import seaborn as sns\n",
    "plt.figure(figsize=(12,6))\n",
    "sns.boxplot(data=df_seats_clean, x='category', y='seats')\n",
    "plt.xticks(rotation=45)\n",
    "plt.title('Распределение посадочных мест по категориям (без выбросов)')\n",
    "plt.xlabel('Категория заведения')\n",
    "plt.ylabel('Количество посадочных мест')\n",
    "plt.tight_layout()\n",
    "plt.show()\n"
   ]
  },
  {
   "cell_type": "markdown",
   "id": "d1e122ff-2909-4511-826f-3def0f8705cc",
   "metadata": {},
   "source": [
    "На основе анализа, наиболее типичное количество посадочных мест по категориям (в скобках — медиана / мода):\n",
    "\n",
    "Бар/паб — 60 / 50\n",
    "\n",
    "Булочная — 30 / 20\n",
    "\n",
    "Быстрое питание — 40 / 30\n",
    "\n",
    "Кафе — 50 / 40\n",
    "\n",
    "Кофейня — 35 / 20\n",
    "\n",
    "Пиццерия — 60 / 50\n",
    "\n",
    "Ресторан — 100 / 80\n",
    "\n",
    "Столовая — 120 / 100\n",
    "\n",
    "Мы можем заметить, что рестораны и столовые имеют самое большое \"типичное\" количество мест, а кофейни и булочные — наименьшее, что логично: последние чаще всего ориентированы на быстрый перекус и небольшой поток людей."
   ]
  },
  {
   "cell_type": "markdown",
   "id": "1c4f48ce-1535-475b-8b87-17972360c80d",
   "metadata": {},
   "source": [
    "В результате общей статистики: мы видим\n",
    "\n",
    "Среднее (mean) = 108 — это сильно больше медианы (50% квантиль = 75), что говорит о асимметрии распределения: есть высокие значения, которые тянут среднее вверх.\n",
    "\n",
    "Максимум = 1288 — это в 10+ раз больше медианы. Вероятный выброс.\n",
    "\n",
    "Минимум = 0 — тоже подозрительно. Может быть ошибка, или это просто кофейный киоск без посадки.\n",
    "\n",
    "\n",
    "Итак, мы видим, что наблюдается значительный разброс данных, что указывает на наличие выбросов (аномальных значений). мы видим по графику с выбросами, что они присутствуют в нескольких категориях заведений - бар.паб, быстрое питание, кафе, кофейни, ресторан и столовая. \n",
    "\n",
    "После удаления выбросов распределение стало более сбалансированным.\n",
    "Удаление выбросов очень важно, тк  существенно улучшает интерпретацию данных, делая распределение более репрезентативным."
   ]
  },
  {
   "cell_type": "markdown",
   "id": "e8e2fb60-2379-4199-ac44-87ec109763a2",
   "metadata": {},
   "source": [
    "Исследуйте рейтинг заведений. Визуализируйте распределение средних рейтингов по категориям заведений. Сильно ли различаются усреднённые рейтинги для разных типов общепита?"
   ]
  },
  {
   "cell_type": "code",
   "execution_count": 47,
   "id": "c64ea15e-585a-4864-8b13-3e0fab7d44f0",
   "metadata": {},
   "outputs": [
    {
     "name": "stderr",
     "output_type": "stream",
     "text": [
      "/tmp/ipykernel_292/3290917886.py:1: FutureWarning: The default of observed=False is deprecated and will be changed to True in a future version of pandas. Pass observed=False to retain current behavior or observed=True to adopt the future default and silence this warning.\n",
      "  avg_ratihg_by_category = df_merged.groupby('category')['rating'].mean().sort_values()\n"
     ]
    },
    {
     "data": {
      "text/plain": [
       "category\n",
       "быстрое питание    4.050249\n",
       "кафе               4.123886\n",
       "столовая           4.211429\n",
       "булочная           4.268359\n",
       "кофейня            4.277282\n",
       "ресторан           4.290357\n",
       "пиццерия           4.301264\n",
       "бар,паб            4.387712\n",
       "Name: rating, dtype: float64"
      ]
     },
     "metadata": {},
     "output_type": "display_data"
    }
   ],
   "source": [
    "avg_ratihg_by_category = df_merged.groupby('category')['rating'].mean().sort_values()\n",
    "display(avg_ratihg_by_category)"
   ]
  },
  {
   "cell_type": "code",
   "execution_count": 48,
   "id": "a43c353e-f051-47d5-afe7-dcea3038b3d9",
   "metadata": {},
   "outputs": [
    {
     "data": {
      "image/png": "[encoded data removed]",
      "text/plain": [
       "<Figure size 864x432 with 1 Axes>"
      ]
     },
     "metadata": {
      "needs_background": "light"
     },
     "output_type": "display_data"
    }
   ],
   "source": [
    "plt.figure(figsize=(12, 6))\n",
    "avg_ratihg_by_category.plot(kind='bar', rot = 45)\n",
    "plt.title('Средний рейтинг по категориям заведений')\n",
    "plt.xlabel('Категория')\n",
    "plt.ylabel('Средний рейтинг')\n",
    "plt.grid()\n",
    "plt.show()"
   ]
  },
  {
   "cell_type": "markdown",
   "id": "113ee3ec-2429-4154-9333-05880146c3ae",
   "metadata": {},
   "source": [
    "На основании данных видно, что все категории заведений имеют высокие средние рейтинги в диапазоне 4.05–4.39, что указывает на общее высокое качество заведений Москвы.\n",
    "\n",
    "Сильно ли различаются усреднённые рейтинги?\n",
    "\n",
    "Различия статистически заметны, но не критичны. Все категории получают оценки выше 4.0, что указывает на относительно высокое качество\n",
    "\n",
    "Различия есть, но они скорее отражают специфику категорий, чем проблемы качества."
   ]
  },
  {
   "cell_type": "markdown",
   "id": "5f5d69bd-d53f-43e5-81a6-7440ea724093",
   "metadata": {},
   "source": [
    "Изучите, с какими данными показывают самую сильную корреляцию рейтинги заведений? Постройте и визуализируйте матрицу корреляции рейтинга заведения с разными данными: его категория, положение (административный район Москвы), статус сетевого заведения, количество мест, ценовая категория и признак, является ли заведения круглосуточным. Выберите самую сильную связь и проверьте её."
   ]
  },
  {
   "cell_type": "code",
   "execution_count": 49,
   "id": "2697625f-deaf-470e-9306-72015509d814",
   "metadata": {},
   "outputs": [
    {
     "data": {
      "text/html": [
       "<div>\n",
       "<style scoped>\n",
       "    .dataframe tbody tr th:only-of-type {\n",
       "        vertical-align: middle;\n",
       "    }\n",
       "\n",
       "    .dataframe tbody tr th {\n",
       "        vertical-align: top;\n",
       "    }\n",
       "\n",
       "    .dataframe thead th {\n",
       "        text-align: right;\n",
       "    }\n",
       "</style>\n",
       "<table border=\"1\" class=\"dataframe\">\n",
       "  <thead>\n",
       "    <tr style=\"text-align: right;\">\n",
       "      <th></th>\n",
       "      <th>rating</th>\n",
       "      <th>chain</th>\n",
       "      <th>seats</th>\n",
       "      <th>middle_avg_bill</th>\n",
       "      <th>is_24_7</th>\n",
       "      <th>category</th>\n",
       "      <th>district</th>\n",
       "      <th>price</th>\n",
       "    </tr>\n",
       "  </thead>\n",
       "  <tbody>\n",
       "    <tr>\n",
       "      <th>rating</th>\n",
       "      <td>1.000000</td>\n",
       "      <td>0.108092</td>\n",
       "      <td>0.000000</td>\n",
       "      <td>0.211868</td>\n",
       "      <td>0.144512</td>\n",
       "      <td>0.190003</td>\n",
       "      <td>0.200691</td>\n",
       "      <td>0.220295</td>\n",
       "    </tr>\n",
       "    <tr>\n",
       "      <th>chain</th>\n",
       "      <td>0.108092</td>\n",
       "      <td>1.000000</td>\n",
       "      <td>0.056563</td>\n",
       "      <td>0.046206</td>\n",
       "      <td>0.050091</td>\n",
       "      <td>0.265627</td>\n",
       "      <td>0.064233</td>\n",
       "      <td>0.218211</td>\n",
       "    </tr>\n",
       "    <tr>\n",
       "      <th>seats</th>\n",
       "      <td>0.000000</td>\n",
       "      <td>0.056563</td>\n",
       "      <td>1.000000</td>\n",
       "      <td>0.045217</td>\n",
       "      <td>0.038917</td>\n",
       "      <td>0.048186</td>\n",
       "      <td>0.352496</td>\n",
       "      <td>0.065308</td>\n",
       "    </tr>\n",
       "    <tr>\n",
       "      <th>middle_avg_bill</th>\n",
       "      <td>0.211868</td>\n",
       "      <td>0.046206</td>\n",
       "      <td>0.045217</td>\n",
       "      <td>1.000000</td>\n",
       "      <td>0.044789</td>\n",
       "      <td>0.053513</td>\n",
       "      <td>0.056558</td>\n",
       "      <td>0.173897</td>\n",
       "    </tr>\n",
       "    <tr>\n",
       "      <th>is_24_7</th>\n",
       "      <td>0.144512</td>\n",
       "      <td>0.050091</td>\n",
       "      <td>0.038917</td>\n",
       "      <td>0.044789</td>\n",
       "      <td>1.000000</td>\n",
       "      <td>0.229858</td>\n",
       "      <td>0.066589</td>\n",
       "      <td>0.066287</td>\n",
       "    </tr>\n",
       "    <tr>\n",
       "      <th>category</th>\n",
       "      <td>0.190003</td>\n",
       "      <td>0.265627</td>\n",
       "      <td>0.048186</td>\n",
       "      <td>0.053513</td>\n",
       "      <td>0.229858</td>\n",
       "      <td>1.000000</td>\n",
       "      <td>0.174326</td>\n",
       "      <td>0.566933</td>\n",
       "    </tr>\n",
       "    <tr>\n",
       "      <th>district</th>\n",
       "      <td>0.200691</td>\n",
       "      <td>0.064233</td>\n",
       "      <td>0.352496</td>\n",
       "      <td>0.056558</td>\n",
       "      <td>0.066589</td>\n",
       "      <td>0.174326</td>\n",
       "      <td>1.000000</td>\n",
       "      <td>0.202787</td>\n",
       "    </tr>\n",
       "    <tr>\n",
       "      <th>price</th>\n",
       "      <td>0.220295</td>\n",
       "      <td>0.218211</td>\n",
       "      <td>0.065308</td>\n",
       "      <td>0.173897</td>\n",
       "      <td>0.066287</td>\n",
       "      <td>0.566933</td>\n",
       "      <td>0.202787</td>\n",
       "      <td>1.000000</td>\n",
       "    </tr>\n",
       "  </tbody>\n",
       "</table>\n",
       "</div>"
      ],
      "text/plain": [
       "                   rating     chain     seats  middle_avg_bill   is_24_7  \\\n",
       "rating           1.000000  0.108092  0.000000         0.211868  0.144512   \n",
       "chain            0.108092  1.000000  0.056563         0.046206  0.050091   \n",
       "seats            0.000000  0.056563  1.000000         0.045217  0.038917   \n",
       "middle_avg_bill  0.211868  0.046206  0.045217         1.000000  0.044789   \n",
       "is_24_7          0.144512  0.050091  0.038917         0.044789  1.000000   \n",
       "category         0.190003  0.265627  0.048186         0.053513  0.229858   \n",
       "district         0.200691  0.064233  0.352496         0.056558  0.066589   \n",
       "price            0.220295  0.218211  0.065308         0.173897  0.066287   \n",
       "\n",
       "                 category  district     price  \n",
       "rating           0.190003  0.200691  0.220295  \n",
       "chain            0.265627  0.064233  0.218211  \n",
       "seats            0.048186  0.352496  0.065308  \n",
       "middle_avg_bill  0.053513  0.056558  0.173897  \n",
       "is_24_7          0.229858  0.066589  0.066287  \n",
       "category         1.000000  0.174326  0.566933  \n",
       "district         0.174326  1.000000  0.202787  \n",
       "price            0.566933  0.202787  1.000000  "
      ]
     },
     "metadata": {},
     "output_type": "display_data"
    }
   ],
   "source": [
    "import seaborn as sns\n",
    "import matplotlib.pyplot as plt\n",
    "\n",
    "df_corr = df_merged.copy()\n",
    "\n",
    "# Преобразуем категориальные переменные\n",
    "df_corr['chain'] = df_corr['chain'].astype('category')\n",
    "df_corr['is_24_7'] = df_corr['is_24_7'].astype('category')\n",
    "for col in ['category', 'district', 'price']:\n",
    "    df_corr[col] = df_corr[col].astype('category')\n",
    "\n",
    "# Тут выбираем только нужные колонки\n",
    "cols_for_corr = ['rating', 'chain', 'seats', 'middle_avg_bill', 'is_24_7', 'category', 'district', 'price']\n",
    "df_phik = df_corr[cols_for_corr].copy()\n",
    "\n",
    "# Строим phi_k корреляционную матрицу\n",
    "phik_corr = df_phik.phik_matrix(interval_cols=['rating', 'middle_avg_bill', 'seats'])\n",
    "display(phik_corr)\n",
    "\n"
   ]
  },
  {
   "cell_type": "code",
   "execution_count": 50,
   "id": "59df87a3-d6a1-4a20-af56-1af43a0dad00",
   "metadata": {},
   "outputs": [
    {
     "data": {
      "image/png": "[encoded data removed]",
      "text/plain": [
       "<Figure size 720x576 with 2 Axes>"
      ]
     },
     "metadata": {
      "needs_background": "light"
     },
     "output_type": "display_data"
    }
   ],
   "source": [
    "# Визуализация: корреляция с рейтингом\n",
    "plt.figure(figsize=(10, 8))\n",
    "sns.heatmap(phik_corr[['rating']].sort_values(by='rating', ascending=False), annot=True, cmap='coolwarm')\n",
    "plt.title('Корреляция переменных с рейтингом (phi_k)')\n",
    "plt.show()"
   ]
  },
  {
   "cell_type": "markdown",
   "id": "37660609-7904-47be-a766-a15a0c310877",
   "metadata": {},
   "source": [
    "Вывод:\n",
    "\n",
    "Наибольшая корреляция:\n",
    "\n",
    "price (ценовая категория) – 0.22\n",
    "\n",
    "middle_avg_bill (средний чек) – 0.21\n",
    "\n",
    "district (район Москвы) – 0.20\n",
    "\n",
    "category (категория заведения) – 0.19\n",
    "\n",
    "is_24_7 (круглосуточное) – 0.14\n",
    "\n",
    "chain (сетевое) – 0.11\n",
    "\n",
    "seats (количество мест) – 0\n",
    "\n",
    "График подтверждает, что:\n",
    "\n",
    "price и middle_avg_bill имеют наибольшую корреляцию с рейтингом.\n",
    "\n",
    "seats (количество мест) не влияет на рейтинг (корреляция примерно 0).\n",
    "\n",
    "# Наибольшая корреляция у price (0.22). \n",
    "\n",
    "Что это значит? \n",
    "- Заведения с более высокой ценовой категорией склонны получать немного более высокие оценки.\n",
    "- Средний чек (0.21) тоже близок к цене, что логично: дорогие заведения обычно имеют высокие средние чеки.\n",
    "- Район (0.20) влияет: возможно, в некоторых районах Москвы заведения в среднем получают более высокие оценки."
   ]
  },
  {
   "cell_type": "markdown",
   "id": "7ef85530-0dd1-4090-ab5c-664093c04062",
   "metadata": {},
   "source": [
    "Ранее я посчитала, что наибольшую корреляцию с рейтингом заведений показывает переменная price, где корреляция составляет 0.22. Чтобы проверить и интерпретировать эту связь, мы рассчитаю средний рейтинг по каждой ценовой категории:"
   ]
  },
  {
   "cell_type": "code",
   "execution_count": 51,
   "id": "9a90959f-1d95-4644-90c3-00d4c2274b71",
   "metadata": {},
   "outputs": [
    {
     "name": "stderr",
     "output_type": "stream",
     "text": [
      "/tmp/ipykernel_292/3748160017.py:1: FutureWarning: The default of observed=False is deprecated and will be changed to True in a future version of pandas. Pass observed=False to retain current behavior or observed=True to adopt the future default and silence this warning.\n",
      "  price_rating = df_corr.groupby('price')['rating'].mean().sort_values()\n"
     ]
    },
    {
     "data": {
      "text/plain": [
       "price\n",
       "низкие           4.173077\n",
       "средние          4.297874\n",
       "выше среднего    4.386348\n",
       "высокие          4.436611\n",
       "Name: rating, dtype: float64"
      ]
     },
     "metadata": {},
     "output_type": "display_data"
    }
   ],
   "source": [
    "price_rating = df_corr.groupby('price')['rating'].mean().sort_values()\n",
    "display(price_rating)"
   ]
  },
  {
   "cell_type": "code",
   "execution_count": 52,
   "id": "b0686fc6-fa8f-459a-9cd2-842ba2013033",
   "metadata": {},
   "outputs": [
    {
     "name": "stderr",
     "output_type": "stream",
     "text": [
      "/opt/conda/lib/python3.9/site-packages/seaborn/categorical.py:253: FutureWarning: The default of observed=False is deprecated and will be changed to True in a future version of pandas. Pass observed=False to retain current behavior or observed=True to adopt the future default and silence this warning.\n",
      "  grouped_vals = vals.groupby(grouper)\n"
     ]
    },
    {
     "data": {
      "image/png": "[encoded data removed]",
      "text/plain": [
       "<Figure size 720x432 with 1 Axes>"
      ]
     },
     "metadata": {
      "needs_background": "light"
     },
     "output_type": "display_data"
    }
   ],
   "source": [
    "plt.figure(figsize=(10,6))\n",
    "sns.boxplot(data=df_corr, x='price', y='rating')\n",
    "plt.title('Распределение рейтинга по ценовым категориям')\n",
    "plt.xlabel('Ценовая категория')\n",
    "plt.ylabel('Рейтинг')\n",
    "plt.grid(True)\n",
    "plt.tight_layout()\n",
    "plt.show()"
   ]
  },
  {
   "cell_type": "markdown",
   "id": "de1e4c63-db11-4323-adcd-0bad42442a55",
   "metadata": {},
   "source": [
    "Ценовая категория действительно влияет на рейтинг: чем выше ценовая категория, тем выше средняя оценка заведения. Это может быть связано с тем, что более дорогие заведения чаще обеспечивают лучшее обслуживание, атмосферу и качество еды, что положительно влияет на пользовательский рейтинг.\n",
    "\n",
    "То есть, связь между rating и price подтверждена как наиболее выраженная среди всех проанализированных переменных."
   ]
  },
  {
   "cell_type": "markdown",
   "id": "4ad38011-5faf-4401-9b83-c4c00e77510b",
   "metadata": {},
   "source": [
    "Сгруппируйте данные по названиям заведений и найдите топ-15 популярных сетей в Москве. Для них посчитайте значения среднего рейтинга. Под популярностью понимается количество заведений этой сети в регионе. К какой категории заведений они относятся? Результат сопроводите подходящими визуализациями."
   ]
  },
  {
   "cell_type": "code",
   "execution_count": 53,
   "id": "c3883580-816d-4e61-934f-cdc14698515d",
   "metadata": {},
   "outputs": [
    {
     "name": "stderr",
     "output_type": "stream",
     "text": [
      "/tmp/ipykernel_292/1209080528.py:1: FutureWarning: The default of observed=False is deprecated and will be changed to True in a future version of pandas. Pass observed=False to retain current behavior or observed=True to adopt the future default and silence this warning.\n",
      "  chain_counts_category = df_merged.groupby('category')['chain'].value_counts(normalize = True).unstack().fillna(0)\n"
     ]
    },
    {
     "data": {
      "text/html": [
       "<div>\n",
       "<style scoped>\n",
       "    .dataframe tbody tr th:only-of-type {\n",
       "        vertical-align: middle;\n",
       "    }\n",
       "\n",
       "    .dataframe tbody tr th {\n",
       "        vertical-align: top;\n",
       "    }\n",
       "\n",
       "    .dataframe thead th {\n",
       "        text-align: right;\n",
       "    }\n",
       "</style>\n",
       "<table border=\"1\" class=\"dataframe\">\n",
       "  <thead>\n",
       "    <tr style=\"text-align: right;\">\n",
       "      <th>chain</th>\n",
       "      <th>False</th>\n",
       "      <th>True</th>\n",
       "    </tr>\n",
       "    <tr>\n",
       "      <th>category</th>\n",
       "      <th></th>\n",
       "      <th></th>\n",
       "    </tr>\n",
       "  </thead>\n",
       "  <tbody>\n",
       "    <tr>\n",
       "      <th>бар,паб</th>\n",
       "      <td>0.779085</td>\n",
       "      <td>0.220915</td>\n",
       "    </tr>\n",
       "    <tr>\n",
       "      <th>булочная</th>\n",
       "      <td>0.386719</td>\n",
       "      <td>0.613281</td>\n",
       "    </tr>\n",
       "    <tr>\n",
       "      <th>быстрое питание</th>\n",
       "      <td>0.615257</td>\n",
       "      <td>0.384743</td>\n",
       "    </tr>\n",
       "    <tr>\n",
       "      <th>кафе</th>\n",
       "      <td>0.672414</td>\n",
       "      <td>0.327586</td>\n",
       "    </tr>\n",
       "    <tr>\n",
       "      <th>кофейня</th>\n",
       "      <td>0.490446</td>\n",
       "      <td>0.509554</td>\n",
       "    </tr>\n",
       "    <tr>\n",
       "      <th>пиццерия</th>\n",
       "      <td>0.478673</td>\n",
       "      <td>0.521327</td>\n",
       "    </tr>\n",
       "    <tr>\n",
       "      <th>ресторан</th>\n",
       "      <td>0.642682</td>\n",
       "      <td>0.357318</td>\n",
       "    </tr>\n",
       "    <tr>\n",
       "      <th>столовая</th>\n",
       "      <td>0.720635</td>\n",
       "      <td>0.279365</td>\n",
       "    </tr>\n",
       "  </tbody>\n",
       "</table>\n",
       "</div>"
      ],
      "text/plain": [
       "chain               False     True \n",
       "category                           \n",
       "бар,паб          0.779085  0.220915\n",
       "булочная         0.386719  0.613281\n",
       "быстрое питание  0.615257  0.384743\n",
       "кафе             0.672414  0.327586\n",
       "кофейня          0.490446  0.509554\n",
       "пиццерия         0.478673  0.521327\n",
       "ресторан         0.642682  0.357318\n",
       "столовая         0.720635  0.279365"
      ]
     },
     "metadata": {},
     "output_type": "display_data"
    }
   ],
   "source": [
    "chain_counts_category = df_merged.groupby('category')['chain'].value_counts(normalize = True).unstack().fillna(0)\n",
    "display(chain_counts_category)"
   ]
  },
  {
   "cell_type": "code",
   "execution_count": 54,
   "id": "d65bbb6b-8226-4cc2-bb34-1e4b13e5a0c2",
   "metadata": {},
   "outputs": [
    {
     "data": {
      "text/html": [
       "<div>\n",
       "<style scoped>\n",
       "    .dataframe tbody tr th:only-of-type {\n",
       "        vertical-align: middle;\n",
       "    }\n",
       "\n",
       "    .dataframe tbody tr th {\n",
       "        vertical-align: top;\n",
       "    }\n",
       "\n",
       "    .dataframe thead th {\n",
       "        text-align: right;\n",
       "    }\n",
       "</style>\n",
       "<table border=\"1\" class=\"dataframe\">\n",
       "  <thead>\n",
       "    <tr style=\"text-align: right;\">\n",
       "      <th></th>\n",
       "      <th>name</th>\n",
       "      <th>count</th>\n",
       "      <th>avg_rating</th>\n",
       "      <th>category</th>\n",
       "    </tr>\n",
       "  </thead>\n",
       "  <tbody>\n",
       "    <tr>\n",
       "      <th>0</th>\n",
       "      <td>Шоколадница</td>\n",
       "      <td>120</td>\n",
       "      <td>4.177500</td>\n",
       "      <td>кофейня</td>\n",
       "    </tr>\n",
       "    <tr>\n",
       "      <th>1</th>\n",
       "      <td>Домино'с Пицца</td>\n",
       "      <td>76</td>\n",
       "      <td>4.169737</td>\n",
       "      <td>пиццерия</td>\n",
       "    </tr>\n",
       "    <tr>\n",
       "      <th>2</th>\n",
       "      <td>Додо Пицца</td>\n",
       "      <td>74</td>\n",
       "      <td>4.286486</td>\n",
       "      <td>пиццерия</td>\n",
       "    </tr>\n",
       "    <tr>\n",
       "      <th>3</th>\n",
       "      <td>One Price Coffee</td>\n",
       "      <td>71</td>\n",
       "      <td>4.064789</td>\n",
       "      <td>кофейня</td>\n",
       "    </tr>\n",
       "    <tr>\n",
       "      <th>4</th>\n",
       "      <td>Яндекс Лавка</td>\n",
       "      <td>69</td>\n",
       "      <td>3.872464</td>\n",
       "      <td>ресторан</td>\n",
       "    </tr>\n",
       "    <tr>\n",
       "      <th>5</th>\n",
       "      <td>Cofix</td>\n",
       "      <td>65</td>\n",
       "      <td>4.075385</td>\n",
       "      <td>кофейня</td>\n",
       "    </tr>\n",
       "    <tr>\n",
       "      <th>6</th>\n",
       "      <td>Prime</td>\n",
       "      <td>50</td>\n",
       "      <td>4.116000</td>\n",
       "      <td>ресторан</td>\n",
       "    </tr>\n",
       "    <tr>\n",
       "      <th>7</th>\n",
       "      <td>Хинкальная</td>\n",
       "      <td>44</td>\n",
       "      <td>4.322727</td>\n",
       "      <td>кафе</td>\n",
       "    </tr>\n",
       "    <tr>\n",
       "      <th>8</th>\n",
       "      <td>КОФЕПОРТ</td>\n",
       "      <td>42</td>\n",
       "      <td>4.147619</td>\n",
       "      <td>кофейня</td>\n",
       "    </tr>\n",
       "    <tr>\n",
       "      <th>9</th>\n",
       "      <td>Кулинарная лавка братьев Караваевых</td>\n",
       "      <td>39</td>\n",
       "      <td>4.394872</td>\n",
       "      <td>кафе</td>\n",
       "    </tr>\n",
       "    <tr>\n",
       "      <th>10</th>\n",
       "      <td>Теремок</td>\n",
       "      <td>38</td>\n",
       "      <td>4.123684</td>\n",
       "      <td>ресторан</td>\n",
       "    </tr>\n",
       "    <tr>\n",
       "      <th>11</th>\n",
       "      <td>Чайхана</td>\n",
       "      <td>37</td>\n",
       "      <td>3.924324</td>\n",
       "      <td>кафе</td>\n",
       "    </tr>\n",
       "    <tr>\n",
       "      <th>12</th>\n",
       "      <td>CofeFest</td>\n",
       "      <td>32</td>\n",
       "      <td>3.984375</td>\n",
       "      <td>кофейня</td>\n",
       "    </tr>\n",
       "    <tr>\n",
       "      <th>13</th>\n",
       "      <td>Буханка</td>\n",
       "      <td>32</td>\n",
       "      <td>4.396875</td>\n",
       "      <td>булочная</td>\n",
       "    </tr>\n",
       "    <tr>\n",
       "      <th>14</th>\n",
       "      <td>Му-Му</td>\n",
       "      <td>27</td>\n",
       "      <td>4.229630</td>\n",
       "      <td>кафе</td>\n",
       "    </tr>\n",
       "  </tbody>\n",
       "</table>\n",
       "</div>"
      ],
      "text/plain": [
       "                                   name  count  avg_rating  category\n",
       "0                           Шоколадница    120    4.177500   кофейня\n",
       "1                        Домино'с Пицца     76    4.169737  пиццерия\n",
       "2                            Додо Пицца     74    4.286486  пиццерия\n",
       "3                      One Price Coffee     71    4.064789   кофейня\n",
       "4                          Яндекс Лавка     69    3.872464  ресторан\n",
       "5                                 Cofix     65    4.075385   кофейня\n",
       "6                                 Prime     50    4.116000  ресторан\n",
       "7                            Хинкальная     44    4.322727      кафе\n",
       "8                              КОФЕПОРТ     42    4.147619   кофейня\n",
       "9   Кулинарная лавка братьев Караваевых     39    4.394872      кафе\n",
       "10                              Теремок     38    4.123684  ресторан\n",
       "11                              Чайхана     37    3.924324      кафе\n",
       "12                             CofeFest     32    3.984375   кофейня\n",
       "13                              Буханка     32    4.396875  булочная\n",
       "14                                Му-Му     27    4.229630      кафе"
      ]
     },
     "metadata": {},
     "output_type": "display_data"
    }
   ],
   "source": [
    "# Оставим только сетевые заведения\n",
    "chains = df_merged[df_merged['chain'] == 1]\n",
    "\n",
    "# Группировка по названию, считаем количество и средний рейтинг\n",
    "top_chains = (chains.groupby('name')\n",
    "                    .agg(count=('name', 'count'), avg_rating=('rating', 'mean'), category=('category', lambda x: x.mode()[0]))\n",
    "                    .sort_values(by='count', ascending=False)\n",
    "                    .head(15)\n",
    "                    .reset_index())\n",
    "\n",
    "display(top_chains)"
   ]
  },
  {
   "cell_type": "code",
   "execution_count": 55,
   "id": "7a780120-ee90-4659-b492-4b1b81166aa3",
   "metadata": {},
   "outputs": [
    {
     "data": {
      "image/png": "[encoded data removed]",
      "text/plain": [
       "<Figure size 720x432 with 1 Axes>"
      ]
     },
     "metadata": {
      "needs_background": "light"
     },
     "output_type": "display_data"
    }
   ],
   "source": [
    "plt.figure(figsize=(10, 6))\n",
    "sns.barplot(data=top_chains, x='count', y='name', hue='category')\n",
    "plt.title('Топ-15 популярных сетевых заведений в Москве')\n",
    "plt.xlabel('Количество заведений')\n",
    "plt.ylabel('Сеть')\n",
    "plt.legend(title='Категория', bbox_to_anchor=(1.05, 1), loc='upper left')\n",
    "plt.show()"
   ]
  },
  {
   "cell_type": "code",
   "execution_count": 56,
   "id": "572f4e80-9fb0-4f58-ad96-b99beebaab18",
   "metadata": {},
   "outputs": [
    {
     "data": {
      "image/png": "[encoded data removed]",
      "text/plain": [
       "<Figure size 720x432 with 1 Axes>"
      ]
     },
     "metadata": {
      "needs_background": "light"
     },
     "output_type": "display_data"
    }
   ],
   "source": [
    "plt.figure(figsize=(10, 6))\n",
    "\n",
    "# Сортируем данные по возрастанию avg_rating\n",
    "top_chains_sorted = top_chains.sort_values('avg_rating', ascending=True)\n",
    "\n",
    "# Строим график с отсортированными данными\n",
    "sns.barplot(\n",
    "    data=top_chains_sorted,\n",
    "    x='avg_rating',\n",
    "    y='name',\n",
    "    order=top_chains_sorted['name']  # Порядок столбцов по возрастанию\n",
    ")\n",
    "plt.title('Средний рейтинг топ-15 сетевых заведений (по возрастанию)')\n",
    "plt.xlabel('Средний рейтинг')\n",
    "plt.ylabel('Сеть')\n",
    "plt.grid(axis='x')\n",
    "plt.show()"
   ]
  },
  {
   "cell_type": "markdown",
   "id": "ea4c125d-a3f9-4661-b0b9-8ceb44d43c60",
   "metadata": {},
   "source": [
    "Вывод:\n",
    "\n",
    "1) Рассмотрим сначала график популярности по москве.\n",
    "- «Шоколадница», «Доминос Пицца», «Додо Пицца» – эти сети доминируют благодаря массовому формату (кофейни и пиццерии).\n",
    "- «Яндекс Лавка» и «One price coffe» сочетают высокий рейтинг и широкую сеть, что указывает на успешный бизнес и воостробованность.\n",
    "- Самые распространённые категории: Кофейни, пиццерии, рестораны быстрого питания – ключевые игроки сетевого рынка.\n",
    "\n",
    "2) Рассмотрим Средний рейтинг топ-15 сетевых заведений:\n",
    "- «Шоколадница», «Додо Пицца», «Буханка», «Караваевы» и «My-My» демонстрируют высокий средний рейтинг, что говорит об их популярности и удовлетворённости клиентов.\n"
   ]
  },
  {
   "cell_type": "markdown",
   "id": "f1d0c152-3071-4f62-bbcf-858b7812fd15",
   "metadata": {},
   "source": [
    "Изучите вариацию среднего чека заведения (столбец middle_avg_bill) в зависимости от района Москвы. Проанализируйте цены в центральном административном округе и других. Как удалённость от центра влияет на цены в заведениях? Результат сопроводите подходящими визуализациями."
   ]
  },
  {
   "cell_type": "code",
   "execution_count": 57,
   "id": "9166e6bb-d6a5-4d08-83a4-e5e6041d000a",
   "metadata": {},
   "outputs": [
    {
     "name": "stdout",
     "output_type": "stream",
     "text": [
      "                                  district  middle_avg_bill\n",
      "0       Центральный административный округ      1191.057547\n",
      "1          Западный административный округ      1053.225490\n",
      "2          Северный административный округ       927.959627\n",
      "3             Южный административный округ       834.398089\n",
      "4   Северо-Западный административный округ       822.222930\n",
      "5         Восточный административный округ       820.626923\n",
      "6      Юго-Западный административный округ       792.561702\n",
      "7  Северо-Восточный административный округ       716.611296\n",
      "8     Юго-Восточный административный округ       654.097938\n"
     ]
    }
   ],
   "source": [
    "# Группировка по районам\n",
    "avg_bill_by_district = df_merged.groupby('district')['middle_avg_bill'].mean().sort_values(ascending=False).reset_index()\n",
    "print(avg_bill_by_district)\n",
    "# Выделим Центральный округ отдельно\n",
    "central_price = avg_bill_by_district[avg_bill_by_district['district'].str.contains('Центральный', case=False)]\n",
    "non_central_price = avg_bill_by_district[~avg_bill_by_district['district'].str.contains('Центральный', case=False)]"
   ]
  },
  {
   "cell_type": "code",
   "execution_count": 58,
   "id": "502b4fb3-6b98-40c2-855a-78103059522a",
   "metadata": {},
   "outputs": [
    {
     "data": {
      "image/png": "[encoded data removed]",
      "text/plain": [
       "<Figure size 864x432 with 1 Axes>"
      ]
     },
     "metadata": {
      "needs_background": "light"
     },
     "output_type": "display_data"
    }
   ],
   "source": [
    "# Визуализация среднего чека по районам\n",
    "plt.figure(figsize=(12, 6))\n",
    "sns.barplot(data=avg_bill_by_district, x='middle_avg_bill', y='district')\n",
    "plt.title('Средний чек по административным округам Москвы')\n",
    "plt.xlabel('Средний чек')\n",
    "plt.ylabel('Округ')\n",
    "plt.grid(axis='x')\n",
    "plt.tight_layout()\n",
    "plt.show()"
   ]
  },
  {
   "cell_type": "markdown",
   "id": "7a95f12c-bce9-444f-b8f2-457a237ed7a5",
   "metadata": {},
   "source": [
    "Средий чек демонстрирует четкую градацию от центра к окраинам. Цены в ЦАО на 13% выше, чем в следующем за ним ЗАО. Разброс цен между округами коррелирует с покупательной способностью населения и туристическим трафиком.\n"
   ]
  },
  {
   "cell_type": "markdown",
   "id": "c55be292-4685-40b5-9f02-1df49675d2ea",
   "metadata": {},
   "source": [
    "## Итоговый вывод\n",
    "\n",
    "1. Проведен анализ рынка общественного питания Москвы на основе данных о заведениях, их рейтингах, средних чеках, распределении по округам и категориям. Исследование включало:\n",
    "- Анализ распределения заведений по административным округам.\n",
    "- Изучение соотношения сетевых и несетевых форматов.\n",
    "- Оценку рейтингов заведений в разрезе категорий.\n",
    "- Исследование ценовой политики (средний чек) в зависимости от локации.\n",
    "- Выявление самых популярных сетевых брендов.\n",
    "\n",
    "\n",
    "2. Главные выводы\n",
    "- Центральный округ (ЦАО) — абсолютный лидер по количеству заведений (2242), что в 2.5 раза больше, чем в других округах.\n",
    "- Цены зависят от удаленности от центра:\n",
    "ЦАО (1191 ₽) — самый дорогой.\n",
    "ЮВАО (654 ₽) — самый доступный.\n",
    "- Лидеры: кофейни (\"Шоколадница\", Cofix), пиццерии (\"Додо Пицца\"), фуд-ритейл (\"Яндекс Лавка\").\n",
    "\n",
    "3. Рекомендации\n",
    "- Открытие кофейни или пиццерии — наиболее проверенные и масштабируемые форматы.\n",
    "- В ЦАО — премиальные концепции (рестораны, бары), но высокая конкуренция.\n",
    "- В окраинных округах — демократичные форматы (кафе, столовые) с умеренными ценами.\n",
    "\n",
    "\n",
    "Итог\n",
    "Московский рынок общественного питания концентрируется в центре, но в периферийных округах есть потенциал для роста. Сети доминируют в кофейнях и фастфуде, а независимые заведения — в барах и ресторанах. Цены в ЦАО на 80% выше, чем на окраинах, что важно учитывать при запуске новых проектов."
   ]
  },
  {
   "cell_type": "code",
   "execution_count": null,
   "id": "492563e1-dd2b-4333-9fe8-1008a3bc95f5",
   "metadata": {},
   "outputs": [],
   "source": []
  },
  {
   "cell_type": "code",
   "execution_count": null,
   "id": "63a54a44-0d41-4f62-bbba-cfe75f6f9ff8",
   "metadata": {},
   "outputs": [],
   "source": []
  },
  {
   "cell_type": "code",
   "execution_count": null,
   "id": "3e5cf1a3-2023-4547-b5a5-3b16a6566796",
   "metadata": {},
   "outputs": [],
   "source": []
  },
  {
   "cell_type": "code",
   "execution_count": null,
   "id": "7038b6e7-3318-4632-9631-ba5a044dae0c",
   "metadata": {},
   "outputs": [],
   "source": []
  }
 ],
 "metadata": {
  "ExecuteTimeLog": [
   {
    "duration": 1564,
    "start_time": "2025-05-28T07:43:48.896Z"
   },
   {
    "duration": 1,
    "start_time": "2025-05-28T07:43:50.463Z"
   },
   {
    "duration": 0,
    "start_time": "2025-05-28T07:43:50.465Z"
   },
   {
    "duration": 0,
    "start_time": "2025-05-28T07:43:50.466Z"
   },
   {
    "duration": 0,
    "start_time": "2025-05-28T07:43:50.467Z"
   },
   {
    "duration": 0,
    "start_time": "2025-05-28T07:43:50.468Z"
   },
   {
    "duration": 0,
    "start_time": "2025-05-28T07:43:50.469Z"
   },
   {
    "duration": 0,
    "start_time": "2025-05-28T07:43:50.470Z"
   },
   {
    "duration": 0,
    "start_time": "2025-05-28T07:43:50.471Z"
   },
   {
    "duration": 0,
    "start_time": "2025-05-28T07:43:50.472Z"
   },
   {
    "duration": 0,
    "start_time": "2025-05-28T07:43:50.473Z"
   },
   {
    "duration": 0,
    "start_time": "2025-05-28T07:43:50.475Z"
   },
   {
    "duration": 0,
    "start_time": "2025-05-28T07:43:50.476Z"
   },
   {
    "duration": 0,
    "start_time": "2025-05-28T07:43:50.477Z"
   },
   {
    "duration": 0,
    "start_time": "2025-05-28T07:43:50.478Z"
   },
   {
    "duration": 0,
    "start_time": "2025-05-28T07:43:50.479Z"
   },
   {
    "duration": 0,
    "start_time": "2025-05-28T07:43:50.480Z"
   },
   {
    "duration": 0,
    "start_time": "2025-05-28T07:43:50.482Z"
   },
   {
    "duration": 0,
    "start_time": "2025-05-28T07:43:50.483Z"
   },
   {
    "duration": 0,
    "start_time": "2025-05-28T07:43:50.484Z"
   },
   {
    "duration": 0,
    "start_time": "2025-05-28T07:43:50.486Z"
   },
   {
    "duration": 0,
    "start_time": "2025-05-28T07:43:50.487Z"
   },
   {
    "duration": 0,
    "start_time": "2025-05-28T07:43:50.488Z"
   },
   {
    "duration": 0,
    "start_time": "2025-05-28T07:43:50.489Z"
   },
   {
    "duration": 0,
    "start_time": "2025-05-28T07:43:50.490Z"
   },
   {
    "duration": 0,
    "start_time": "2025-05-28T07:43:50.491Z"
   },
   {
    "duration": 0,
    "start_time": "2025-05-28T07:43:50.492Z"
   },
   {
    "duration": 0,
    "start_time": "2025-05-28T07:43:50.493Z"
   },
   {
    "duration": 0,
    "start_time": "2025-05-28T07:43:50.494Z"
   },
   {
    "duration": 0,
    "start_time": "2025-05-28T07:43:50.496Z"
   },
   {
    "duration": 0,
    "start_time": "2025-05-28T07:43:50.497Z"
   },
   {
    "duration": 0,
    "start_time": "2025-05-28T07:43:50.498Z"
   },
   {
    "duration": 0,
    "start_time": "2025-05-28T07:43:50.499Z"
   },
   {
    "duration": 0,
    "start_time": "2025-05-28T07:43:50.500Z"
   },
   {
    "duration": 0,
    "start_time": "2025-05-28T07:43:50.501Z"
   },
   {
    "duration": 0,
    "start_time": "2025-05-28T07:43:50.563Z"
   },
   {
    "duration": 0,
    "start_time": "2025-05-28T07:43:50.564Z"
   },
   {
    "duration": 0,
    "start_time": "2025-05-28T07:43:50.565Z"
   },
   {
    "duration": 0,
    "start_time": "2025-05-28T07:43:50.566Z"
   },
   {
    "duration": 0,
    "start_time": "2025-05-28T07:43:50.567Z"
   },
   {
    "duration": 0,
    "start_time": "2025-05-28T07:43:50.568Z"
   },
   {
    "duration": 0,
    "start_time": "2025-05-28T07:43:50.569Z"
   },
   {
    "duration": 0,
    "start_time": "2025-05-28T07:43:50.570Z"
   },
   {
    "duration": 0,
    "start_time": "2025-05-28T07:43:50.571Z"
   },
   {
    "duration": 0,
    "start_time": "2025-05-28T07:43:50.572Z"
   },
   {
    "duration": 0,
    "start_time": "2025-05-28T07:43:50.573Z"
   },
   {
    "duration": 0,
    "start_time": "2025-05-28T07:43:50.574Z"
   },
   {
    "duration": 0,
    "start_time": "2025-05-28T07:43:50.575Z"
   },
   {
    "duration": 0,
    "start_time": "2025-05-28T07:43:50.576Z"
   },
   {
    "duration": 0,
    "start_time": "2025-05-28T07:43:50.577Z"
   },
   {
    "duration": 0,
    "start_time": "2025-05-28T07:43:50.578Z"
   },
   {
    "duration": 0,
    "start_time": "2025-05-28T07:43:50.579Z"
   },
   {
    "duration": 0,
    "start_time": "2025-05-28T07:43:50.580Z"
   },
   {
    "duration": 0,
    "start_time": "2025-05-28T07:43:50.581Z"
   },
   {
    "duration": 4581,
    "start_time": "2025-05-28T07:44:40.882Z"
   },
   {
    "duration": 1714,
    "start_time": "2025-05-28T07:44:45.466Z"
   },
   {
    "duration": 169,
    "start_time": "2025-05-28T07:44:47.182Z"
   },
   {
    "duration": 19,
    "start_time": "2025-05-28T07:44:47.354Z"
   },
   {
    "duration": 22,
    "start_time": "2025-05-28T07:44:47.376Z"
   },
   {
    "duration": 9,
    "start_time": "2025-05-28T07:44:47.400Z"
   },
   {
    "duration": 136,
    "start_time": "2025-05-28T07:44:47.412Z"
   },
   {
    "duration": 12,
    "start_time": "2025-05-28T07:44:47.550Z"
   },
   {
    "duration": 13,
    "start_time": "2025-05-28T07:44:47.563Z"
   },
   {
    "duration": 5,
    "start_time": "2025-05-28T07:44:47.579Z"
   },
   {
    "duration": 22,
    "start_time": "2025-05-28T07:44:47.585Z"
   },
   {
    "duration": 29,
    "start_time": "2025-05-28T07:44:47.608Z"
   },
   {
    "duration": 27,
    "start_time": "2025-05-28T07:44:47.639Z"
   },
   {
    "duration": 5,
    "start_time": "2025-05-28T07:44:47.668Z"
   },
   {
    "duration": 9,
    "start_time": "2025-05-28T07:44:47.675Z"
   },
   {
    "duration": 27,
    "start_time": "2025-05-28T07:44:47.686Z"
   },
   {
    "duration": 14,
    "start_time": "2025-05-28T07:44:47.715Z"
   },
   {
    "duration": 13,
    "start_time": "2025-05-28T07:44:47.731Z"
   },
   {
    "duration": 5,
    "start_time": "2025-05-28T07:44:47.745Z"
   },
   {
    "duration": 36,
    "start_time": "2025-05-28T07:44:47.751Z"
   },
   {
    "duration": 7,
    "start_time": "2025-05-28T07:44:47.789Z"
   },
   {
    "duration": 14,
    "start_time": "2025-05-28T07:44:47.798Z"
   },
   {
    "duration": 12,
    "start_time": "2025-05-28T07:44:47.813Z"
   },
   {
    "duration": 35,
    "start_time": "2025-05-28T07:44:47.827Z"
   },
   {
    "duration": 8,
    "start_time": "2025-05-28T07:44:47.864Z"
   },
   {
    "duration": 23,
    "start_time": "2025-05-28T07:44:47.874Z"
   },
   {
    "duration": 19,
    "start_time": "2025-05-28T07:44:47.899Z"
   },
   {
    "duration": 234,
    "start_time": "2025-05-28T07:44:47.925Z"
   },
   {
    "duration": 5,
    "start_time": "2025-05-28T07:44:48.162Z"
   },
   {
    "duration": 11,
    "start_time": "2025-05-28T07:44:48.168Z"
   },
   {
    "duration": 10,
    "start_time": "2025-05-28T07:44:48.181Z"
   },
   {
    "duration": 413,
    "start_time": "2025-05-28T07:44:48.193Z"
   },
   {
    "duration": 363,
    "start_time": "2025-05-28T07:44:48.609Z"
   },
   {
    "duration": 7,
    "start_time": "2025-05-28T07:44:48.974Z"
   },
   {
    "duration": 24,
    "start_time": "2025-05-28T07:44:48.983Z"
   },
   {
    "duration": 108,
    "start_time": "2025-05-28T07:44:49.009Z"
   },
   {
    "duration": 230,
    "start_time": "2025-05-28T07:44:49.118Z"
   },
   {
    "duration": 20,
    "start_time": "2025-05-28T07:44:49.350Z"
   },
   {
    "duration": 13,
    "start_time": "2025-05-28T07:44:49.372Z"
   },
   {
    "duration": 17,
    "start_time": "2025-05-28T07:44:49.387Z"
   },
   {
    "duration": 467,
    "start_time": "2025-05-28T07:44:49.406Z"
   },
   {
    "duration": 10,
    "start_time": "2025-05-28T07:44:49.875Z"
   },
   {
    "duration": 507,
    "start_time": "2025-05-28T07:44:49.887Z"
   },
   {
    "duration": 403,
    "start_time": "2025-05-28T07:44:50.396Z"
   },
   {
    "duration": 9,
    "start_time": "2025-05-28T07:44:50.801Z"
   },
   {
    "duration": 210,
    "start_time": "2025-05-28T07:44:50.812Z"
   },
   {
    "duration": 7,
    "start_time": "2025-05-28T07:44:51.025Z"
   },
   {
    "duration": 190,
    "start_time": "2025-05-28T07:44:51.035Z"
   },
   {
    "duration": 0,
    "start_time": "2025-05-28T07:44:51.227Z"
   },
   {
    "duration": 0,
    "start_time": "2025-05-28T07:44:51.229Z"
   },
   {
    "duration": 0,
    "start_time": "2025-05-28T07:44:51.230Z"
   },
   {
    "duration": 0,
    "start_time": "2025-05-28T07:44:51.232Z"
   },
   {
    "duration": 0,
    "start_time": "2025-05-28T07:44:51.234Z"
   },
   {
    "duration": 0,
    "start_time": "2025-05-28T07:44:51.235Z"
   },
   {
    "duration": 0,
    "start_time": "2025-05-28T07:44:51.237Z"
   },
   {
    "duration": 122,
    "start_time": "2025-05-28T07:45:41.634Z"
   },
   {
    "duration": 123,
    "start_time": "2025-05-28T07:47:15.254Z"
   },
   {
    "duration": 4,
    "start_time": "2025-05-28T07:57:24.636Z"
   },
   {
    "duration": 3359,
    "start_time": "2025-05-30T12:38:25.470Z"
   },
   {
    "duration": 1594,
    "start_time": "2025-05-30T12:38:28.831Z"
   },
   {
    "duration": 178,
    "start_time": "2025-05-30T12:38:30.427Z"
   },
   {
    "duration": 15,
    "start_time": "2025-05-30T12:38:30.607Z"
   },
   {
    "duration": 14,
    "start_time": "2025-05-30T12:38:30.624Z"
   },
   {
    "duration": 19,
    "start_time": "2025-05-30T12:38:30.640Z"
   },
   {
    "duration": 81,
    "start_time": "2025-05-30T12:38:30.661Z"
   },
   {
    "duration": 9,
    "start_time": "2025-05-30T12:38:30.744Z"
   },
   {
    "duration": 13,
    "start_time": "2025-05-30T12:38:30.755Z"
   },
   {
    "duration": 4,
    "start_time": "2025-05-30T12:38:30.770Z"
   },
   {
    "duration": 13,
    "start_time": "2025-05-30T12:38:30.775Z"
   },
   {
    "duration": 16,
    "start_time": "2025-05-30T12:38:30.789Z"
   },
   {
    "duration": 20,
    "start_time": "2025-05-30T12:38:30.807Z"
   },
   {
    "duration": 21,
    "start_time": "2025-05-30T12:38:30.828Z"
   },
   {
    "duration": 11,
    "start_time": "2025-05-30T12:38:30.850Z"
   },
   {
    "duration": 6,
    "start_time": "2025-05-30T12:38:30.863Z"
   },
   {
    "duration": 30,
    "start_time": "2025-05-30T12:38:30.870Z"
   },
   {
    "duration": 12,
    "start_time": "2025-05-30T12:38:30.902Z"
   },
   {
    "duration": 40,
    "start_time": "2025-05-30T12:38:30.915Z"
   },
   {
    "duration": 33,
    "start_time": "2025-05-30T12:38:30.957Z"
   },
   {
    "duration": 5,
    "start_time": "2025-05-30T12:38:30.992Z"
   },
   {
    "duration": 4,
    "start_time": "2025-05-30T12:38:30.999Z"
   },
   {
    "duration": 6,
    "start_time": "2025-05-30T12:38:31.005Z"
   },
   {
    "duration": 18,
    "start_time": "2025-05-30T12:38:31.012Z"
   },
   {
    "duration": 5,
    "start_time": "2025-05-30T12:38:31.032Z"
   },
   {
    "duration": 7,
    "start_time": "2025-05-30T12:38:31.038Z"
   },
   {
    "duration": 17,
    "start_time": "2025-05-30T12:38:31.077Z"
   },
   {
    "duration": 210,
    "start_time": "2025-05-30T12:38:31.098Z"
   },
   {
    "duration": 5,
    "start_time": "2025-05-30T12:38:31.310Z"
   },
   {
    "duration": 57,
    "start_time": "2025-05-30T12:38:31.317Z"
   },
   {
    "duration": 14,
    "start_time": "2025-05-30T12:38:31.376Z"
   },
   {
    "duration": 416,
    "start_time": "2025-05-30T12:38:31.392Z"
   },
   {
    "duration": 371,
    "start_time": "2025-05-30T12:38:31.811Z"
   },
   {
    "duration": 6,
    "start_time": "2025-05-30T12:38:32.184Z"
   },
   {
    "duration": 98,
    "start_time": "2025-05-30T12:38:32.191Z"
   },
   {
    "duration": 99,
    "start_time": "2025-05-30T12:38:32.290Z"
   },
   {
    "duration": 211,
    "start_time": "2025-05-30T12:38:32.391Z"
   },
   {
    "duration": 9,
    "start_time": "2025-05-30T12:38:32.604Z"
   },
   {
    "duration": 15,
    "start_time": "2025-05-30T12:38:32.614Z"
   },
   {
    "duration": 37,
    "start_time": "2025-05-30T12:38:32.631Z"
   },
   {
    "duration": 400,
    "start_time": "2025-05-30T12:38:32.670Z"
   },
   {
    "duration": 7,
    "start_time": "2025-05-30T12:38:33.077Z"
   },
   {
    "duration": 521,
    "start_time": "2025-05-30T12:38:33.086Z"
   },
   {
    "duration": 382,
    "start_time": "2025-05-30T12:38:33.609Z"
   },
   {
    "duration": 7,
    "start_time": "2025-05-30T12:38:33.993Z"
   },
   {
    "duration": 177,
    "start_time": "2025-05-30T12:38:34.001Z"
   },
   {
    "duration": 274,
    "start_time": "2025-05-30T12:38:34.180Z"
   },
   {
    "duration": 343,
    "start_time": "2025-05-30T12:38:34.456Z"
   },
   {
    "duration": 11,
    "start_time": "2025-05-30T12:38:34.800Z"
   },
   {
    "duration": 130,
    "start_time": "2025-05-30T12:38:34.813Z"
   },
   {
    "duration": 441,
    "start_time": "2025-05-30T12:38:34.945Z"
   },
   {
    "duration": 243,
    "start_time": "2025-05-30T12:38:35.388Z"
   },
   {
    "duration": 10,
    "start_time": "2025-05-30T12:38:35.633Z"
   },
   {
    "duration": 362,
    "start_time": "2025-05-30T12:38:35.645Z"
   },
   {
    "duration": 7460,
    "start_time": "2025-05-31T15:46:07.064Z"
   },
   {
    "duration": 1712,
    "start_time": "2025-05-31T15:46:14.527Z"
   },
   {
    "duration": 193,
    "start_time": "2025-05-31T15:46:16.241Z"
   },
   {
    "duration": 16,
    "start_time": "2025-05-31T15:46:16.435Z"
   },
   {
    "duration": 13,
    "start_time": "2025-05-31T15:46:16.453Z"
   },
   {
    "duration": 5,
    "start_time": "2025-05-31T15:46:16.468Z"
   },
   {
    "duration": 95,
    "start_time": "2025-05-31T15:46:16.474Z"
   },
   {
    "duration": 10,
    "start_time": "2025-05-31T15:46:16.571Z"
   },
   {
    "duration": 10,
    "start_time": "2025-05-31T15:46:16.582Z"
   },
   {
    "duration": 5,
    "start_time": "2025-05-31T15:46:16.593Z"
   },
   {
    "duration": 11,
    "start_time": "2025-05-31T15:46:16.599Z"
   },
   {
    "duration": 14,
    "start_time": "2025-05-31T15:46:16.611Z"
   },
   {
    "duration": 36,
    "start_time": "2025-05-31T15:46:16.626Z"
   },
   {
    "duration": 44,
    "start_time": "2025-05-31T15:46:16.665Z"
   },
   {
    "duration": 4,
    "start_time": "2025-05-31T15:46:16.710Z"
   },
   {
    "duration": 7,
    "start_time": "2025-05-31T15:46:16.716Z"
   },
   {
    "duration": 114,
    "start_time": "2025-05-31T15:46:16.725Z"
   },
   {
    "duration": 10,
    "start_time": "2025-05-31T15:46:16.841Z"
   },
   {
    "duration": 4,
    "start_time": "2025-05-31T15:46:16.853Z"
   },
   {
    "duration": 25,
    "start_time": "2025-05-31T15:46:16.859Z"
   },
   {
    "duration": 5,
    "start_time": "2025-05-31T15:46:16.886Z"
   },
   {
    "duration": 5,
    "start_time": "2025-05-31T15:46:16.893Z"
   },
   {
    "duration": 15,
    "start_time": "2025-05-31T15:46:16.900Z"
   },
   {
    "duration": 16,
    "start_time": "2025-05-31T15:46:16.917Z"
   },
   {
    "duration": 7,
    "start_time": "2025-05-31T15:46:16.935Z"
   },
   {
    "duration": 17,
    "start_time": "2025-05-31T15:46:16.944Z"
   },
   {
    "duration": 7,
    "start_time": "2025-05-31T15:46:16.963Z"
   },
   {
    "duration": 222,
    "start_time": "2025-05-31T15:46:16.971Z"
   },
   {
    "duration": 4,
    "start_time": "2025-05-31T15:46:17.195Z"
   },
   {
    "duration": 19,
    "start_time": "2025-05-31T15:46:17.201Z"
   },
   {
    "duration": 10,
    "start_time": "2025-05-31T15:46:17.221Z"
   },
   {
    "duration": 347,
    "start_time": "2025-05-31T15:46:17.232Z"
   },
   {
    "duration": 355,
    "start_time": "2025-05-31T15:46:17.581Z"
   },
   {
    "duration": 6,
    "start_time": "2025-05-31T15:46:17.938Z"
   },
   {
    "duration": 29,
    "start_time": "2025-05-31T15:46:17.946Z"
   },
   {
    "duration": 114,
    "start_time": "2025-05-31T15:46:17.978Z"
   },
   {
    "duration": 225,
    "start_time": "2025-05-31T15:46:18.094Z"
   },
   {
    "duration": 10,
    "start_time": "2025-05-31T15:46:18.321Z"
   },
   {
    "duration": 29,
    "start_time": "2025-05-31T15:46:18.333Z"
   },
   {
    "duration": 13,
    "start_time": "2025-05-31T15:46:18.364Z"
   },
   {
    "duration": 493,
    "start_time": "2025-05-31T15:46:18.381Z"
   },
   {
    "duration": 9,
    "start_time": "2025-05-31T15:46:18.877Z"
   },
   {
    "duration": 456,
    "start_time": "2025-05-31T15:46:18.888Z"
   },
   {
    "duration": 374,
    "start_time": "2025-05-31T15:46:19.346Z"
   },
   {
    "duration": 16,
    "start_time": "2025-05-31T15:46:19.723Z"
   },
   {
    "duration": 428,
    "start_time": "2025-05-31T15:46:19.742Z"
   },
   {
    "duration": 9,
    "start_time": "2025-05-31T15:46:20.173Z"
   },
   {
    "duration": 200,
    "start_time": "2025-05-31T15:46:20.185Z"
   },
   {
    "duration": 253,
    "start_time": "2025-05-31T15:46:20.387Z"
   },
   {
    "duration": 356,
    "start_time": "2025-05-31T15:46:20.642Z"
   },
   {
    "duration": 10,
    "start_time": "2025-05-31T15:46:21.000Z"
   },
   {
    "duration": 352,
    "start_time": "2025-05-31T15:46:21.012Z"
   },
   {
    "duration": 17,
    "start_time": "2025-05-31T15:46:21.366Z"
   },
   {
    "duration": 151,
    "start_time": "2025-05-31T15:46:21.385Z"
   },
   {
    "duration": 704,
    "start_time": "2025-05-31T15:46:21.538Z"
   },
   {
    "duration": 257,
    "start_time": "2025-05-31T15:46:22.244Z"
   },
   {
    "duration": 12,
    "start_time": "2025-05-31T15:46:22.503Z"
   },
   {
    "duration": 391,
    "start_time": "2025-05-31T15:46:22.517Z"
   }
  ],
  "kernelspec": {
   "display_name": "Python 3 (ipykernel)",
   "language": "python",
   "name": "python3"
  },
  "language_info": {
   "codemirror_mode": {
    "name": "ipython",
    "version": 3
   },
   "file_extension": ".py",
   "mimetype": "text/x-python",
   "name": "python",
   "nbconvert_exporter": "python",
   "pygments_lexer": "ipython3",
   "version": "3.9.6"
  },
  "toc": {
   "base_numbering": 1,
   "nav_menu": {},
   "number_sections": true,
   "sideBar": true,
   "skip_h1_title": true,
   "title_cell": "Table of Contents",
   "title_sidebar": "Contents",
   "toc_cell": false,
   "toc_position": {
    "height": "calc(100% - 180px)",
    "left": "10px",
    "top": "150px",
    "width": "348.639709px"
   },
   "toc_section_display": true,
   "toc_window_display": true
  }
 },
 "nbformat": 4,
 "nbformat_minor": 5
}
